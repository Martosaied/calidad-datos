{
 "cells": [
  {
   "cell_type": "code",
   "execution_count": 6,
   "metadata": {},
   "outputs": [],
   "source": [
    "import pandas as pd"
   ]
  },
  {
   "cell_type": "code",
   "execution_count": 15,
   "metadata": {},
   "outputs": [
    {
     "name": "stderr",
     "output_type": "stream",
     "text": [
      "/Users/msaied/mambaforge/envs/default/lib/python3.9/site-packages/openpyxl/styles/stylesheet.py:226: UserWarning: Workbook contains no default style, apply openpyxl's default\n",
      "  warn(\"Workbook contains no default style, apply openpyxl's default\")\n"
     ]
    }
   ],
   "source": [
    "df = pd.read_excel('GSAF5-cleaned.xlsx', engine='openpyxl')"
   ]
  },
  {
   "cell_type": "code",
   "execution_count": 16,
   "metadata": {},
   "outputs": [
    {
     "data": {
      "text/plain": [
       "Unprovoked             5089\n",
       "Provoked                634\n",
       "Invalid                 581\n",
       "Watercraft              362\n",
       "Sea Disaster            243\n",
       "Questionable              2\n",
       "Under investigation       1\n",
       "Name: Type, dtype: int64"
      ]
     },
     "execution_count": 16,
     "metadata": {},
     "output_type": "execute_result"
    }
   ],
   "source": [
    "df['Type'].value_counts()"
   ]
  },
  {
   "cell_type": "markdown",
   "metadata": {},
   "source": [
    "Decidimos dejar 3 casos sin categorizar dentro de los principales tipos debido a sus caracteristicas.\n",
    "Under Investigation indica que no se pueden sacar conclusiones aun, se trata de un caso reciente.\n",
    "\n",
    "Por otro lado, los 2 casos cuestionables podrian encajar bajo la categoria de Invalido."
   ]
  },
  {
   "cell_type": "code",
   "execution_count": 17,
   "metadata": {},
   "outputs": [
    {
     "data": {
      "text/html": [
       "<div>\n",
       "<style scoped>\n",
       "    .dataframe tbody tr th:only-of-type {\n",
       "        vertical-align: middle;\n",
       "    }\n",
       "\n",
       "    .dataframe tbody tr th {\n",
       "        vertical-align: top;\n",
       "    }\n",
       "\n",
       "    .dataframe thead th {\n",
       "        text-align: right;\n",
       "    }\n",
       "</style>\n",
       "<table border=\"1\" class=\"dataframe\">\n",
       "  <thead>\n",
       "    <tr style=\"text-align: right;\">\n",
       "      <th></th>\n",
       "      <th>Date</th>\n",
       "      <th>Year</th>\n",
       "      <th>Type</th>\n",
       "      <th>Color</th>\n",
       "      <th>Colored Type</th>\n",
       "      <th>Country</th>\n",
       "      <th>State</th>\n",
       "      <th>Location</th>\n",
       "      <th>Activity</th>\n",
       "      <th>Name</th>\n",
       "      <th>...</th>\n",
       "      <th>Time</th>\n",
       "      <th>Species</th>\n",
       "      <th>Source</th>\n",
       "      <th>pdf</th>\n",
       "      <th>href formula</th>\n",
       "      <th>href</th>\n",
       "      <th>Case Number</th>\n",
       "      <th>Case Number.1</th>\n",
       "      <th>original order</th>\n",
       "      <th>Unnamed: 254</th>\n",
       "    </tr>\n",
       "  </thead>\n",
       "  <tbody>\n",
       "    <tr>\n",
       "      <th>570</th>\n",
       "      <td>14-Jul-2018</td>\n",
       "      <td>2018.0</td>\n",
       "      <td>Under investigation</td>\n",
       "      <td>tan</td>\n",
       "      <td>Unprovoked</td>\n",
       "      <td>United States of America</td>\n",
       "      <td>Florida</td>\n",
       "      <td>Playalinda Beach, Brevard County</td>\n",
       "      <td>Surfing</td>\n",
       "      <td>female</td>\n",
       "      <td>...</td>\n",
       "      <td>13h30</td>\n",
       "      <td>NaN</td>\n",
       "      <td>Brevard Times, 7/14/2018</td>\n",
       "      <td>2018.07.14.a-Playalinda.pdf</td>\n",
       "      <td>http://sharkattackfile.net/spreadsheets/pdf_di...</td>\n",
       "      <td>http://sharkattackfile.net/spreadsheets/pdf_di...</td>\n",
       "      <td>2018.07.14.a</td>\n",
       "      <td>2018.07.14.a</td>\n",
       "      <td>6342.0</td>\n",
       "      <td>NaN</td>\n",
       "    </tr>\n",
       "  </tbody>\n",
       "</table>\n",
       "<p>1 rows × 24 columns</p>\n",
       "</div>"
      ],
      "text/plain": [
       "            Date    Year                 Type Color Colored Type  \\\n",
       "570  14-Jul-2018  2018.0  Under investigation   tan   Unprovoked   \n",
       "\n",
       "                      Country    State                          Location  \\\n",
       "570  United States of America  Florida  Playalinda Beach, Brevard County   \n",
       "\n",
       "    Activity    Name  ...   Time Species                    Source  \\\n",
       "570  Surfing  female  ...  13h30     NaN  Brevard Times, 7/14/2018   \n",
       "\n",
       "                             pdf  \\\n",
       "570  2018.07.14.a-Playalinda.pdf   \n",
       "\n",
       "                                          href formula  \\\n",
       "570  http://sharkattackfile.net/spreadsheets/pdf_di...   \n",
       "\n",
       "                                                  href   Case Number  \\\n",
       "570  http://sharkattackfile.net/spreadsheets/pdf_di...  2018.07.14.a   \n",
       "\n",
       "    Case Number.1 original order Unnamed: 254  \n",
       "570  2018.07.14.a         6342.0          NaN  \n",
       "\n",
       "[1 rows x 24 columns]"
      ]
     },
     "execution_count": 17,
     "metadata": {},
     "output_type": "execute_result"
    }
   ],
   "source": [
    "df[df['Type'] == 'Under investigation']"
   ]
  },
  {
   "cell_type": "code",
   "execution_count": 10,
   "metadata": {},
   "outputs": [
    {
     "data": {
      "text/html": [
       "<div>\n",
       "<style scoped>\n",
       "    .dataframe tbody tr th:only-of-type {\n",
       "        vertical-align: middle;\n",
       "    }\n",
       "\n",
       "    .dataframe tbody tr th {\n",
       "        vertical-align: top;\n",
       "    }\n",
       "\n",
       "    .dataframe thead th {\n",
       "        text-align: right;\n",
       "    }\n",
       "</style>\n",
       "<table border=\"1\" class=\"dataframe\">\n",
       "  <thead>\n",
       "    <tr style=\"text-align: right;\">\n",
       "      <th></th>\n",
       "      <th>Date</th>\n",
       "      <th>Year</th>\n",
       "      <th>Type</th>\n",
       "      <th>Color</th>\n",
       "      <th>Colored Type</th>\n",
       "      <th>Country</th>\n",
       "      <th>State</th>\n",
       "      <th>Location</th>\n",
       "      <th>Activity</th>\n",
       "      <th>Name</th>\n",
       "      <th>...</th>\n",
       "      <th>Unnamed: 11</th>\n",
       "      <th>Time</th>\n",
       "      <th>Species</th>\n",
       "      <th>Source</th>\n",
       "      <th>pdf</th>\n",
       "      <th>href formula</th>\n",
       "      <th>href</th>\n",
       "      <th>Case Number</th>\n",
       "      <th>Case Number.1</th>\n",
       "      <th>original order</th>\n",
       "    </tr>\n",
       "  </thead>\n",
       "  <tbody>\n",
       "    <tr>\n",
       "      <th>14</th>\n",
       "      <td>12 Sep-2023</td>\n",
       "      <td>2023.0</td>\n",
       "      <td>Questionable</td>\n",
       "      <td>tan</td>\n",
       "      <td>Unprovoked</td>\n",
       "      <td>United States of America</td>\n",
       "      <td>Florida</td>\n",
       "      <td>New Smyrna Beach, Volusia County</td>\n",
       "      <td>Surfing</td>\n",
       "      <td>Mark Summersett</td>\n",
       "      <td>...</td>\n",
       "      <td>N</td>\n",
       "      <td>07h50</td>\n",
       "      <td>NaN</td>\n",
       "      <td>Daytona Beach News Journal, 9/13/2023</td>\n",
       "      <td>NaN</td>\n",
       "      <td>NaN</td>\n",
       "      <td>NaN</td>\n",
       "      <td>NaN</td>\n",
       "      <td>NaN</td>\n",
       "      <td>NaN</td>\n",
       "    </tr>\n",
       "    <tr>\n",
       "      <th>486</th>\n",
       "      <td>12-Apr-2019</td>\n",
       "      <td>2019.0</td>\n",
       "      <td>Questionable</td>\n",
       "      <td>tan</td>\n",
       "      <td>Unprovoked</td>\n",
       "      <td>United States of America</td>\n",
       "      <td>Florida</td>\n",
       "      <td>Crescent Beach, St Johns County</td>\n",
       "      <td>Boogie boarding</td>\n",
       "      <td>Peyton Shields</td>\n",
       "      <td>...</td>\n",
       "      <td>N</td>\n",
       "      <td>17h45</td>\n",
       "      <td>NaN</td>\n",
       "      <td>Action News Jax, 4/12/2019, K. McMurray, Track...</td>\n",
       "      <td>2019.04.12-Shields.pdf</td>\n",
       "      <td>http://sharkattackfile.net/spreadsheets/pdf_di...</td>\n",
       "      <td>http://sharkattackfile.net/spreadsheets/pdf_di...</td>\n",
       "      <td>2019.04.12</td>\n",
       "      <td>2019.04.12</td>\n",
       "      <td>6426.0</td>\n",
       "    </tr>\n",
       "  </tbody>\n",
       "</table>\n",
       "<p>2 rows × 23 columns</p>\n",
       "</div>"
      ],
      "text/plain": [
       "            Date    Year          Type Color Colored Type  \\\n",
       "14   12 Sep-2023  2023.0  Questionable   tan   Unprovoked   \n",
       "486  12-Apr-2019  2019.0  Questionable   tan   Unprovoked   \n",
       "\n",
       "                      Country    State                          Location  \\\n",
       "14   United States of America  Florida  New Smyrna Beach, Volusia County   \n",
       "486  United States of America  Florida   Crescent Beach, St Johns County   \n",
       "\n",
       "            Activity             Name  ... Unnamed: 11   Time Species  \\\n",
       "14           Surfing  Mark Summersett  ...           N  07h50     NaN   \n",
       "486  Boogie boarding   Peyton Shields  ...           N  17h45     NaN   \n",
       "\n",
       "                                                Source  \\\n",
       "14               Daytona Beach News Journal, 9/13/2023   \n",
       "486  Action News Jax, 4/12/2019, K. McMurray, Track...   \n",
       "\n",
       "                        pdf  \\\n",
       "14                      NaN   \n",
       "486  2019.04.12-Shields.pdf   \n",
       "\n",
       "                                          href formula  \\\n",
       "14                                                 NaN   \n",
       "486  http://sharkattackfile.net/spreadsheets/pdf_di...   \n",
       "\n",
       "                                                  href Case Number  \\\n",
       "14                                                 NaN         NaN   \n",
       "486  http://sharkattackfile.net/spreadsheets/pdf_di...  2019.04.12   \n",
       "\n",
       "    Case Number.1 original order  \n",
       "14            NaN            NaN  \n",
       "486    2019.04.12         6426.0  \n",
       "\n",
       "[2 rows x 23 columns]"
      ]
     },
     "execution_count": 10,
     "metadata": {},
     "output_type": "execute_result"
    }
   ],
   "source": [
    "df[df['Type'] == 'Questionable']"
   ]
  },
  {
   "cell_type": "markdown",
   "metadata": {},
   "source": [
    "Si nos abstenemos al uso del codigo de colores para la clasificacion, los tres casos caeiras en _Unprovoked_."
   ]
  },
  {
   "cell_type": "code",
   "execution_count": 18,
   "metadata": {},
   "outputs": [
    {
     "name": "stdout",
     "output_type": "stream",
     "text": [
      "['Australia', 'New Zealand', 'United States of America', 'Mexico', 'Belize', 'Egypt', 'Philippines', 'The Bahamas', 'Spain', 'Portugal', 'Colombia', 'South Africa', 'Ecuador', 'French Polynesia', 'French Overseas Territories', 'British Overseas Territories', 'Brazil', 'Seychelles', 'Argentina', 'Fiji', 'Maldives', 'United Kingdom', 'Japan', 'Indonesia', 'Jamaica', 'Thailand', 'Costa Rica', 'Canada', 'Jordan', 'Saint Kitts and Nevis', 'Sint Maarten', 'Papua New Guinea', 'Israel', \"People's Republic of China\", 'Samoa', 'Republic of Ireland', 'Italy', 'Malaysia', 'Libya', 'Unknown', 'Cuba', 'Mauritius', 'Solomon Islands', 'British overseas territories', 'Comoros', 'United Arab Emirates', 'Cape Verde', 'Dominican Republic', 'Aruba', 'Mozambique', 'Puerto Rico', 'Atlantic Ocean', 'Greece', 'St. Martin', 'France', 'Trinidad and Tobago', 'Kiribati', 'Taiwan', 'State of Palestine', 'Guam', 'Nigeria', 'Tonga', 'Croatia', 'Saudi Arabia', 'Chile', 'Antigua and Barbuda', 'Kenya', 'Russia', 'South Korea', 'Malta', 'Vietnam', 'Madagascar', 'Panama', 'Somalia', 'Norway', 'Senegal', 'Yemen', 'Sierra Leone', 'Liberia', 'Vanuatu', 'Honduras', 'Venezuela', 'Sri Lanka', 'Uruguay', 'India', 'Federated States of Micronesia', 'Caribbean Sea', 'Tanzania', 'Marshall Islands', 'Arabian Sea', 'Hong Kong', 'El Salvador', 'Angola', 'Montenegro', 'Iran', 'Tunisia', 'Namibia', 'South China Sea', 'Bangladesh', 'Palau', 'Pacific Ocean', 'Grenada', 'Iraq', 'Turkey', 'Singapore', 'Papua Nueva Guinea', 'Sudan', 'United States', 'Red Sea', 'PERSIAN GULF', 'Nicaragua', 'American Samoa', 'Gabon', 'Magadascar', 'Slovenia', 'Indian Ocean', 'Guatemala', 'Curacao', 'Northern Mariana Islands', 'CENTRAL PACIFIC', 'Curaçao', 'Iceland', 'Barbados', 'French Overseas territories', 'Monaco', 'Guyana', 'Haiti', 'Kuwait', 'FALKLAND ISLANDS', 'Cyprus', 'Myanmar', 'Lebanon', 'Paraguay', 'Georgia', 'Syria', 'Tuvalu', 'Guinea', 'Equatorial Guinea', 'Cook Islands', 'Peru', 'Kingdom of Africa', 'Algeria', 'São Tomé and Príncipe', 'Ghana', 'Greenland', 'Mediterranean Sea', 'Sweden', 'Djibouti', 'Bahrain']\n"
     ]
    }
   ],
   "source": [
    "print(list(df['Country'].unique()))"
   ]
  }
 ],
 "metadata": {
  "kernelspec": {
   "display_name": "default",
   "language": "python",
   "name": "python3"
  },
  "language_info": {
   "codemirror_mode": {
    "name": "ipython",
    "version": 3
   },
   "file_extension": ".py",
   "mimetype": "text/x-python",
   "name": "python",
   "nbconvert_exporter": "python",
   "pygments_lexer": "ipython3",
   "version": "3.9.4"
  }
 },
 "nbformat": 4,
 "nbformat_minor": 2
}
