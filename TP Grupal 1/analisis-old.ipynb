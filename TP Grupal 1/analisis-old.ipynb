{
 "cells": [
  {
   "cell_type": "code",
   "execution_count": 62,
   "metadata": {},
   "outputs": [],
   "source": [
    "import pandas as pd\n",
    "import numpy as np\n",
    "import seaborn as sns\n",
    "import matplotlib.pyplot as plt"
   ]
  },
  {
   "cell_type": "markdown",
   "metadata": {},
   "source": [
    "# Práctica Aproximación a la calidad de datos "
   ]
  },
  {
   "cell_type": "code",
   "execution_count": 3,
   "metadata": {},
   "outputs": [
    {
     "data": {
      "text/html": [
       "<div>\n",
       "<style scoped>\n",
       "    .dataframe tbody tr th:only-of-type {\n",
       "        vertical-align: middle;\n",
       "    }\n",
       "\n",
       "    .dataframe tbody tr th {\n",
       "        vertical-align: top;\n",
       "    }\n",
       "\n",
       "    .dataframe thead th {\n",
       "        text-align: right;\n",
       "    }\n",
       "</style>\n",
       "<table border=\"1\" class=\"dataframe\">\n",
       "  <thead>\n",
       "    <tr style=\"text-align: right;\">\n",
       "      <th></th>\n",
       "      <th>persona_id</th>\n",
       "      <th>sexo</th>\n",
       "      <th>edad</th>\n",
       "      <th>provincia_id</th>\n",
       "      <th>provincia</th>\n",
       "      <th>departamento_id</th>\n",
       "      <th>departamento</th>\n",
       "      <th>monto_ultima_liquidacion</th>\n",
       "      <th>periodo_desde</th>\n",
       "      <th>periodo_hasta</th>\n",
       "    </tr>\n",
       "  </thead>\n",
       "  <tbody>\n",
       "    <tr>\n",
       "      <th>0</th>\n",
       "      <td>413f389c-d94d-43d3-b00c-c58419562331</td>\n",
       "      <td>M</td>\n",
       "      <td>88</td>\n",
       "      <td>2</td>\n",
       "      <td>Ciudad de Buenos Aires</td>\n",
       "      <td>2000</td>\n",
       "      <td>Comuna 1,Comuna 10,Comuna 11,Comuna 12,Comuna ...</td>\n",
       "      <td>17000</td>\n",
       "      <td>2022-05-01</td>\n",
       "      <td>2023-04-01</td>\n",
       "    </tr>\n",
       "    <tr>\n",
       "      <th>1</th>\n",
       "      <td>330e50e9-ff39-44dc-a882-b3255c2c7395</td>\n",
       "      <td>M</td>\n",
       "      <td>90</td>\n",
       "      <td>2</td>\n",
       "      <td>Ciudad de Buenos Aires</td>\n",
       "      <td>2000</td>\n",
       "      <td>Comuna 1,Comuna 10,Comuna 11,Comuna 12,Comuna ...</td>\n",
       "      <td>17000</td>\n",
       "      <td>2020-03-01</td>\n",
       "      <td>2022-03-01</td>\n",
       "    </tr>\n",
       "    <tr>\n",
       "      <th>2</th>\n",
       "      <td>4c6be991-231f-4dc2-92c3-487819d2dd91</td>\n",
       "      <td>M</td>\n",
       "      <td>85</td>\n",
       "      <td>2</td>\n",
       "      <td>Ciudad de Buenos Aires</td>\n",
       "      <td>2000</td>\n",
       "      <td>Comuna 1,Comuna 10,Comuna 11,Comuna 12,Comuna ...</td>\n",
       "      <td>17000</td>\n",
       "      <td>2022-01-01</td>\n",
       "      <td>2022-05-01</td>\n",
       "    </tr>\n",
       "    <tr>\n",
       "      <th>3</th>\n",
       "      <td>20b21518-ac89-459a-88f8-d4aa2e48ae21</td>\n",
       "      <td>M</td>\n",
       "      <td>81</td>\n",
       "      <td>2</td>\n",
       "      <td>Ciudad de Buenos Aires</td>\n",
       "      <td>2000</td>\n",
       "      <td>Comuna 1,Comuna 10,Comuna 11,Comuna 12,Comuna ...</td>\n",
       "      <td>17000</td>\n",
       "      <td>2022-12-01</td>\n",
       "      <td>2023-01-01</td>\n",
       "    </tr>\n",
       "    <tr>\n",
       "      <th>4</th>\n",
       "      <td>6626c34f-9088-492f-a016-4f72fa8ddcea</td>\n",
       "      <td>M</td>\n",
       "      <td>72</td>\n",
       "      <td>2</td>\n",
       "      <td>Ciudad de Buenos Aires</td>\n",
       "      <td>2000</td>\n",
       "      <td>Comuna 1,Comuna 10,Comuna 11,Comuna 12,Comuna ...</td>\n",
       "      <td>34000</td>\n",
       "      <td>2021-05-01</td>\n",
       "      <td>2021-09-01</td>\n",
       "    </tr>\n",
       "  </tbody>\n",
       "</table>\n",
       "</div>"
      ],
      "text/plain": [
       "                             persona_id sexo  edad  provincia_id  \\\n",
       "0  413f389c-d94d-43d3-b00c-c58419562331    M    88             2   \n",
       "1  330e50e9-ff39-44dc-a882-b3255c2c7395    M    90             2   \n",
       "2  4c6be991-231f-4dc2-92c3-487819d2dd91    M    85             2   \n",
       "3  20b21518-ac89-459a-88f8-d4aa2e48ae21    M    81             2   \n",
       "4  6626c34f-9088-492f-a016-4f72fa8ddcea    M    72             2   \n",
       "\n",
       "                provincia  departamento_id  \\\n",
       "0  Ciudad de Buenos Aires             2000   \n",
       "1  Ciudad de Buenos Aires             2000   \n",
       "2  Ciudad de Buenos Aires             2000   \n",
       "3  Ciudad de Buenos Aires             2000   \n",
       "4  Ciudad de Buenos Aires             2000   \n",
       "\n",
       "                                        departamento  \\\n",
       "0  Comuna 1,Comuna 10,Comuna 11,Comuna 12,Comuna ...   \n",
       "1  Comuna 1,Comuna 10,Comuna 11,Comuna 12,Comuna ...   \n",
       "2  Comuna 1,Comuna 10,Comuna 11,Comuna 12,Comuna ...   \n",
       "3  Comuna 1,Comuna 10,Comuna 11,Comuna 12,Comuna ...   \n",
       "4  Comuna 1,Comuna 10,Comuna 11,Comuna 12,Comuna ...   \n",
       "\n",
       "   monto_ultima_liquidacion periodo_desde periodo_hasta  \n",
       "0                     17000    2022-05-01    2023-04-01  \n",
       "1                     17000    2020-03-01    2022-03-01  \n",
       "2                     17000    2022-01-01    2022-05-01  \n",
       "3                     17000    2022-12-01    2023-01-01  \n",
       "4                     34000    2021-05-01    2021-09-01  "
      ]
     },
     "execution_count": 3,
     "metadata": {},
     "output_type": "execute_result"
    }
   ],
   "source": [
    "df = pd.read_csv('titulares_prestacion_alimentar-2023-08-01.csv')\n",
    "df.head()"
   ]
  },
  {
   "cell_type": "markdown",
   "metadata": {},
   "source": [
    "### a) Analizamos consistencia entre pares\n",
    "\n",
    "Analizaremos provincia_id junto con provincia y departamento_id junto con departamento"
   ]
  },
  {
   "cell_type": "code",
   "execution_count": 115,
   "metadata": {},
   "outputs": [
    {
     "data": {
      "text/plain": [
       "provincia               provincia_id\n",
       "Buenos Aires            2                   281\n",
       "                        6               1372951\n",
       "Catamarca               10                34928\n",
       "Chaco                   22               145446\n",
       "Chubut                  26                40775\n",
       "Ciudad de Buenos Aires  2                126813\n",
       "Corrientes              18               115298\n",
       "Córdoba                 14               285807\n",
       "Entre Ríos              30               101245\n",
       "Formosa                 34                65931\n",
       "Jujuy                   38                74023\n",
       "La Pampa                42                23742\n",
       "La Rioja                46                33260\n",
       "Mendoza                 50               166639\n",
       "Misiones                54               141589\n",
       "Neuquén                 58                48429\n",
       "Río Negro               62                55504\n",
       "Salta                   66               150081\n",
       "San Juan                70                74525\n",
       "San Luis                74                43003\n",
       "Santa Cruz              78                29250\n",
       "Santa Fe                82               253925\n",
       "Santiago del Estero     86               112720\n",
       "Tierra del Fuego        94                 9428\n",
       "Tucumán                 90               170411\n",
       "dtype: int64"
      ]
     },
     "execution_count": 115,
     "metadata": {},
     "output_type": "execute_result"
    }
   ],
   "source": [
    "df.groupby(['provincia', 'provincia_id']).size()"
   ]
  },
  {
   "cell_type": "markdown",
   "metadata": {},
   "source": [
    "Viendo el output anterior vemos que Buenos Aires tiene dos provincia_id posibles, 2 y 6 pero tambien 2 es el provincia_id asociado a Ciudad de Buenos Aires. Veamos de que se tratan esos registros que tienen provincia_id 6 y provincia Buenos Aires"
   ]
  },
  {
   "cell_type": "code",
   "execution_count": 116,
   "metadata": {},
   "outputs": [
    {
     "name": "stdout",
     "output_type": "stream",
     "text": [
      "                                   persona_id sexo  edad  provincia_id  \\\n",
      "3473615  47c0e820-db18-4985-8464-dae72c0db3b4    M    58             2   \n",
      "3473616  1fbbb5c6-5382-41a5-81a0-43ad3f62fa57    M    52             2   \n",
      "3473617  d734b6b7-4c4e-4807-bb19-529bf6124812    M    50             2   \n",
      "3473618  be786704-9cee-4a7f-96e1-c9b2943ecd52    M    49             2   \n",
      "3473619  11f5767d-3319-4338-b15d-c3b7c6eb0728    M    46             2   \n",
      "...                                       ...  ...   ...           ...   \n",
      "3473891  2700a00b-d924-41af-ad25-2db334799183    F    41             2   \n",
      "3473892  f6f321c9-0515-4f9e-abf9-6b2832f7b617    F    36             2   \n",
      "3473893  220db70b-7753-402b-9802-5e894c1d26c4    F    34             2   \n",
      "3473894  b81e84a8-e76d-4a09-990a-8912c3aa5c0b    F    24             2   \n",
      "3473895  841511d9-baf8-4638-bb7c-d79a308cd690    F    32             2   \n",
      "\n",
      "            provincia  departamento_id departamento  monto_ultima_liquidacion  \\\n",
      "3473615  Buenos Aires             6466       Lezama                     17000   \n",
      "3473616  Buenos Aires             6466       Lezama                     26000   \n",
      "3473617  Buenos Aires             6466       Lezama                     17000   \n",
      "3473618  Buenos Aires             6466       Lezama                     17000   \n",
      "3473619  Buenos Aires             6466       Lezama                     17000   \n",
      "...               ...              ...          ...                       ...   \n",
      "3473891  Buenos Aires             6466       Lezama                     17000   \n",
      "3473892  Buenos Aires             6466       Lezama                     26000   \n",
      "3473893  Buenos Aires             6466       Lezama                     34000   \n",
      "3473894  Buenos Aires             6466       Lezama                     17000   \n",
      "3473895  Buenos Aires             6466       Lezama                     26000   \n",
      "\n",
      "        periodo_desde periodo_hasta  \n",
      "3473615    2022-01-01    2022-05-01  \n",
      "3473616    2022-01-01    2022-01-01  \n",
      "3473617    2022-09-01    2023-08-01  \n",
      "3473618    2022-05-01    2022-05-01  \n",
      "3473619    2021-10-01    2023-08-01  \n",
      "...               ...           ...  \n",
      "3473891    2021-05-01    2021-09-01  \n",
      "3473892    2020-03-01    2023-02-01  \n",
      "3473893    2020-03-01    2023-08-01  \n",
      "3473894    2023-01-01    2023-08-01  \n",
      "3473895    2021-05-01    2023-08-01  \n",
      "\n",
      "[281 rows x 10 columns]\n",
      "['Lezama']\n"
     ]
    }
   ],
   "source": [
    "print(df[(df['provincia_id'] == 2) & (df['provincia'] == 'Buenos Aires')])\n",
    "print(np.unique(df[(df['provincia_id'] == 2) & (df['provincia'] == 'Buenos Aires')]['departamento']))"
   ]
  },
  {
   "cell_type": "markdown",
   "metadata": {},
   "source": [
    "Vemos que los registros que indican 2 como provincia_id y Buenos Aires como provincia, el unico departamento es Lezama."
   ]
  },
  {
   "cell_type": "markdown",
   "metadata": {},
   "source": [
    "Pasemos a analizar departamento_id y departamento"
   ]
  },
  {
   "cell_type": "code",
   "execution_count": 117,
   "metadata": {},
   "outputs": [
    {
     "name": "stdout",
     "output_type": "stream",
     "text": [
      "                      departamento  departamento_id\n",
      "3                       25 de Mayo                5\n",
      "4                       9 de Julio                5\n",
      "5                    Adolfo Alsina                2\n",
      "11                 Almirante Brown                2\n",
      "24                      Avellaneda                3\n",
      "25                        Ayacucho                2\n",
      "33                        Belgrano                3\n",
      "39                         Bermejo                2\n",
      "55                         Capital               11\n",
      "69                       Chacabuco                3\n",
      "84                           Colón                3\n",
      "91                      Concepción                2\n",
      "100               Coronel Pringles                2\n",
      "133            Florentino Ameghino                2\n",
      "142                 General Alvear                3\n",
      "145               General Belgrano                3\n",
      "148                 General Güemes                2\n",
      "160                    General Paz                2\n",
      "164                   General Roca                2\n",
      "166             General San Martín                3\n",
      "190                  Independencia                2\n",
      "196                      Ituzaingó                2\n",
      "202                          Junín                3\n",
      "211                         La Paz                3\n",
      "224                        Lavalle                2\n",
      "226                Leandro N. Alem                2\n",
      "230  Libertador General San Martín                3\n",
      "248                          Maipú                3\n",
      "258                       Mercedes                2\n",
      "261                          Minas                2\n",
      "269                         Moreno                2\n",
      "289                     Pellegrini                2\n",
      "319                         Rawson                2\n",
      "322                      Rivadavia                5\n",
      "330                      Río Chico                2\n",
      "346                    San Antonio                2\n",
      "349                     San Carlos                2\n",
      "353                   San Fernando                2\n",
      "356                     San Javier                3\n",
      "358                      San Justo                2\n",
      "359                    San Lorenzo                2\n",
      "361                     San Martín                5\n",
      "362                     San Miguel                2\n",
      "364                      San Pedro                3\n",
      "373                    Santa María                2\n",
      "374                     Santa Rosa                2\n",
      "378                      Sarmiento                3\n"
     ]
    }
   ],
   "source": [
    "inconsistent_pairs = df.groupby('departamento')['departamento_id'].nunique().reset_index()\n",
    "print(inconsistent_pairs[inconsistent_pairs['departamento_id'] > 1])\n"
   ]
  },
  {
   "cell_type": "markdown",
   "metadata": {},
   "source": [
    "Vemos que para el caso departamento-departamento_id, los nombres de los departamentos se repiten mucho mas tambien debido a la naturaleza de estos. En diferentes provincias pueden haber distintos departamentos llamados del mismo modo."
   ]
  },
  {
   "cell_type": "markdown",
   "metadata": {},
   "source": [
    "### b) Generar una nueva variable que se llame duración, que represente el período durante el cual se accedió al beneficio. "
   ]
  },
  {
   "cell_type": "code",
   "execution_count": 118,
   "metadata": {},
   "outputs": [
    {
     "data": {
      "text/plain": [
       "0          335 days\n",
       "1          730 days\n",
       "2          120 days\n",
       "3           31 days\n",
       "4          123 days\n",
       "             ...   \n",
       "3675999    822 days\n",
       "3676000    578 days\n",
       "3676001    671 days\n",
       "3676002   1126 days\n",
       "3676003    579 days\n",
       "Name: duracion, Length: 3676004, dtype: timedelta64[ns]"
      ]
     },
     "execution_count": 118,
     "metadata": {},
     "output_type": "execute_result"
    }
   ],
   "source": [
    "df['duracion'] = pd.to_datetime(df['periodo_hasta']) - pd.to_datetime(df['periodo_desde'])\n",
    "\n",
    "df['duracion']"
   ]
  },
  {
   "cell_type": "markdown",
   "metadata": {},
   "source": [
    "### c) Efectuar una apreciación sobre la unicidad, la actualidad y la consistencia del dataset. Para la consistencia verificar si es posible utilizar datasets externos. "
   ]
  },
  {
   "cell_type": "code",
   "execution_count": 119,
   "metadata": {},
   "outputs": [
    {
     "name": "stdout",
     "output_type": "stream",
     "text": [
      "3676004\n",
      "3676004\n"
     ]
    }
   ],
   "source": [
    "# Unicidad\n",
    "print(len(df)) # Numero total de registros\n",
    "\n",
    "print(df['persona_id'].nunique()) # Numero de personas unicas"
   ]
  },
  {
   "cell_type": "markdown",
   "metadata": {},
   "source": [
    "Para analizar la consistencia vamos a comparar la distribucion porcentual de las tarjetas alimentar con la distribucion poblacional usando como fuente los datos del Censo 2022 publicados en https://censo.gob.ar/"
   ]
  },
  {
   "cell_type": "code",
   "execution_count": 57,
   "metadata": {},
   "outputs": [
    {
     "data": {
      "text/html": [
       "<div>\n",
       "<style scoped>\n",
       "    .dataframe tbody tr th:only-of-type {\n",
       "        vertical-align: middle;\n",
       "    }\n",
       "\n",
       "    .dataframe tbody tr th {\n",
       "        vertical-align: top;\n",
       "    }\n",
       "\n",
       "    .dataframe thead th {\n",
       "        text-align: right;\n",
       "    }\n",
       "</style>\n",
       "<table border=\"1\" class=\"dataframe\">\n",
       "  <thead>\n",
       "    <tr style=\"text-align: right;\">\n",
       "      <th></th>\n",
       "      <th>provincia</th>\n",
       "      <th>porcentaje_poblacion</th>\n",
       "    </tr>\n",
       "  </thead>\n",
       "  <tbody>\n",
       "    <tr>\n",
       "      <th>0</th>\n",
       "      <td>Buenos Aires</td>\n",
       "      <td>38.16</td>\n",
       "    </tr>\n",
       "    <tr>\n",
       "      <th>1</th>\n",
       "      <td>Córdoba</td>\n",
       "      <td>8.64</td>\n",
       "    </tr>\n",
       "    <tr>\n",
       "      <th>2</th>\n",
       "      <td>Santa Fe</td>\n",
       "      <td>7.72</td>\n",
       "    </tr>\n",
       "    <tr>\n",
       "      <th>3</th>\n",
       "      <td>Ciudad de Buenos Aires</td>\n",
       "      <td>6.78</td>\n",
       "    </tr>\n",
       "    <tr>\n",
       "      <th>4</th>\n",
       "      <td>Mendoza</td>\n",
       "      <td>4.38</td>\n",
       "    </tr>\n",
       "    <tr>\n",
       "      <th>5</th>\n",
       "      <td>Tucumán</td>\n",
       "      <td>3.70</td>\n",
       "    </tr>\n",
       "    <tr>\n",
       "      <th>6</th>\n",
       "      <td>Salta</td>\n",
       "      <td>3.13</td>\n",
       "    </tr>\n",
       "    <tr>\n",
       "      <th>7</th>\n",
       "      <td>Entre Ríos</td>\n",
       "      <td>3.10</td>\n",
       "    </tr>\n",
       "    <tr>\n",
       "      <th>8</th>\n",
       "      <td>Misiones</td>\n",
       "      <td>2.78</td>\n",
       "    </tr>\n",
       "    <tr>\n",
       "      <th>9</th>\n",
       "      <td>Corrientes</td>\n",
       "      <td>2.60</td>\n",
       "    </tr>\n",
       "    <tr>\n",
       "      <th>10</th>\n",
       "      <td>Chaco</td>\n",
       "      <td>2.48</td>\n",
       "    </tr>\n",
       "    <tr>\n",
       "      <th>11</th>\n",
       "      <td>Santiago del Estero</td>\n",
       "      <td>2.29</td>\n",
       "    </tr>\n",
       "    <tr>\n",
       "      <th>12</th>\n",
       "      <td>San Juan</td>\n",
       "      <td>1.78</td>\n",
       "    </tr>\n",
       "    <tr>\n",
       "      <th>13</th>\n",
       "      <td>Jujuy</td>\n",
       "      <td>1.73</td>\n",
       "    </tr>\n",
       "    <tr>\n",
       "      <th>14</th>\n",
       "      <td>Río Negro</td>\n",
       "      <td>1.66</td>\n",
       "    </tr>\n",
       "    <tr>\n",
       "      <th>15</th>\n",
       "      <td>Neuquén</td>\n",
       "      <td>1.58</td>\n",
       "    </tr>\n",
       "    <tr>\n",
       "      <th>16</th>\n",
       "      <td>Formosa</td>\n",
       "      <td>1.32</td>\n",
       "    </tr>\n",
       "    <tr>\n",
       "      <th>17</th>\n",
       "      <td>Chubut</td>\n",
       "      <td>1.31</td>\n",
       "    </tr>\n",
       "    <tr>\n",
       "      <th>18</th>\n",
       "      <td>San Luis</td>\n",
       "      <td>1.17</td>\n",
       "    </tr>\n",
       "    <tr>\n",
       "      <th>19</th>\n",
       "      <td>Catamarca</td>\n",
       "      <td>0.93</td>\n",
       "    </tr>\n",
       "    <tr>\n",
       "      <th>20</th>\n",
       "      <td>La Rioja</td>\n",
       "      <td>0.84</td>\n",
       "    </tr>\n",
       "    <tr>\n",
       "      <th>21</th>\n",
       "      <td>La Pampa</td>\n",
       "      <td>0.79</td>\n",
       "    </tr>\n",
       "    <tr>\n",
       "      <th>22</th>\n",
       "      <td>Santa Cruz</td>\n",
       "      <td>0.72</td>\n",
       "    </tr>\n",
       "    <tr>\n",
       "      <th>23</th>\n",
       "      <td>Tierra del Fuego</td>\n",
       "      <td>0.41</td>\n",
       "    </tr>\n",
       "  </tbody>\n",
       "</table>\n",
       "</div>"
      ],
      "text/plain": [
       "                 provincia  porcentaje_poblacion\n",
       "0             Buenos Aires                 38.16\n",
       "1                  Córdoba                  8.64\n",
       "2                 Santa Fe                  7.72\n",
       "3   Ciudad de Buenos Aires                  6.78\n",
       "4                  Mendoza                  4.38\n",
       "5                  Tucumán                  3.70\n",
       "6                    Salta                  3.13\n",
       "7               Entre Ríos                  3.10\n",
       "8                 Misiones                  2.78\n",
       "9               Corrientes                  2.60\n",
       "10                   Chaco                  2.48\n",
       "11     Santiago del Estero                  2.29\n",
       "12                San Juan                  1.78\n",
       "13                   Jujuy                  1.73\n",
       "14               Río Negro                  1.66\n",
       "15                 Neuquén                  1.58\n",
       "16                 Formosa                  1.32\n",
       "17                  Chubut                  1.31\n",
       "18                San Luis                  1.17\n",
       "19               Catamarca                  0.93\n",
       "20                La Rioja                  0.84\n",
       "21                La Pampa                  0.79\n",
       "22              Santa Cruz                  0.72\n",
       "23        Tierra del Fuego                  0.41"
      ]
     },
     "execution_count": 57,
     "metadata": {},
     "output_type": "execute_result"
    }
   ],
   "source": [
    "distribucion_poblacional = pd.read_json('distribucion_poblacional.json', orient='index')\n",
    "\n",
    "# Reset the index and rename the columns\n",
    "distribucion_poblacional = distribucion_poblacional.reset_index().rename(columns={'index': 'provincia', 0: 'porcentaje_poblacion'})\n",
    "distribucion_poblacional"
   ]
  },
  {
   "cell_type": "code",
   "execution_count": 66,
   "metadata": {},
   "outputs": [
    {
     "data": {
      "image/png": "[encoded data removed]",
      "text/plain": [
       "<Figure size 720x432 with 1 Axes>"
      ]
     },
     "metadata": {
      "needs_background": "light"
     },
     "output_type": "display_data"
    }
   ],
   "source": [
    "# Consistencia\n",
    "counts = df['provincia'].value_counts()\n",
    "\n",
    "provincia_percentages = (counts / len(df)) * 100\n",
    "\n",
    "df_plot = pd.DataFrame({'provincia': provincia_percentages.index, 'porcentaje': provincia_percentages.values})\n",
    "\n",
    "df_plot = df_plot.merge(pd.DataFrame.from_dict(distribucion_poblacional), on='provincia', how='inner')\n",
    "df_plot\n",
    "\n",
    "# Create a bar plot for 'porcentaje' and 'porcentaje_poblacion' columns\n",
    "ax = df_plot.plot(kind='bar', figsize=(10, 6))\n",
    "df_plot.set_index('provincia', inplace=True)\n",
    "\n",
    "# Set labels and title\n",
    "plt.xlabel('Provincia')\n",
    "plt.ylabel('Porcentaje')\n",
    "plt.title('Porcentaje Tarjetas vs. Porcentaje Poblacion por Provincia')\n",
    "\n",
    "# Display province names on the x-axis\n",
    "ax.set_xticklabels(df_plot.index, rotation=45, ha=\"right\")\n",
    "\n",
    "# Show the plot\n",
    "plt.tight_layout()\n",
    "plt.show()"
   ]
  },
  {
   "cell_type": "markdown",
   "metadata": {},
   "source": [
    "Basándonos en el gráfico previo, es evidente que la distribución de las tarjetas alimentarias se asemeja a la distribución poblacional a nivel provincial en su mayoría. No obstante, hay excepciones notables, como es el caso de la Ciudad de Buenos Aires. Esto podría explicarse por las diferencias en los niveles de pobreza presentes en cada jurisdicción, siendo la Ciudad de Buenos Aires notablemente menos afectada por la pobreza en comparación con otras regiones. La inclusión de datos externos procedentes de otras fuentes relacionados con el salario promedio o los niveles de pobreza a nivel provincial o incluso municipal podría contribuir a perfeccionar la evaluación de la distribución en el conjunto de datos. "
   ]
  },
  {
   "cell_type": "markdown",
   "metadata": {},
   "source": [
    "### d) Efectuar un análisis descriptivo de cada una de las variables, incluyendo el % de datos faltantes "
   ]
  },
  {
   "cell_type": "code",
   "execution_count": null,
   "metadata": {},
   "outputs": [
    {
     "name": "stdout",
     "output_type": "stream",
     "text": [
      "Cantidad de persona_id distintos: 3676004 vs Cantidad de registros: 3676004\n"
     ]
    }
   ],
   "source": [
    "# persona_id\n",
    "\"\"\"\n",
    "El id de la persona es unico para cada persona, por es unico para cada registro de la tabla y todo registro tiene un id de persona.\n",
    "En el contexto de esta tabla, el id parece estar anonimizado, ya que no se puede relacionar con ningun otro dato de la tabla para identificar a la persona. \n",
    "\"\"\"\n",
    "\n",
    "print('Cantidad de persona_id distintos:', len(df['persona_id'].unique()), 'vs Cantidad de registros:', len(df))"
   ]
  },
  {
   "cell_type": "code",
   "execution_count": 122,
   "metadata": {},
   "outputs": [
    {
     "name": "stdout",
     "output_type": "stream",
     "text": [
      "F   1\n",
      "M   0\n",
      "X   0\n",
      "Name: sexo, dtype: float64\n",
      "Cantidad de personas con sexo: 3676004 vs Cantidad de registros: 3676004\n"
     ]
    }
   ],
   "source": [
    "# sexo\n",
    "\"\"\"\n",
    "El sexo es unico para cada persona, por es unico para cada registro de la tabla y todo registro tiene un sexo\n",
    "Es una variable categorica con tres posibles valores: F, M y X\n",
    "El valor F es el mas frecuente\n",
    "\"\"\"\n",
    "\n",
    "print(df.sexo.value_counts() / len(df))\n",
    "print('Cantidad de personas con sexo:', df.sexo.value_counts().sum(), 'vs Cantidad de registros:', len(df))\n"
   ]
  },
  {
   "cell_type": "code",
   "execution_count": 1,
   "metadata": {},
   "outputs": [
    {
     "ename": "NameError",
     "evalue": "name 'pd' is not defined",
     "output_type": "error",
     "traceback": [
      "\u001b[0;31m---------------------------------------------------------------------------\u001b[0m",
      "\u001b[0;31mNameError\u001b[0m                                 Traceback (most recent call last)",
      "\u001b[0;32m<ipython-input-1-56db39c20b8a>\u001b[0m in \u001b[0;36m<module>\u001b[0;34m\u001b[0m\n\u001b[1;32m      7\u001b[0m \"\"\"\n\u001b[1;32m      8\u001b[0m \u001b[0;34m\u001b[0m\u001b[0m\n\u001b[0;32m----> 9\u001b[0;31m \u001b[0mpd\u001b[0m\u001b[0;34m.\u001b[0m\u001b[0moptions\u001b[0m\u001b[0;34m.\u001b[0m\u001b[0mdisplay\u001b[0m\u001b[0;34m.\u001b[0m\u001b[0mfloat_format\u001b[0m \u001b[0;34m=\u001b[0m \u001b[0;34m'{:.0f}'\u001b[0m\u001b[0;34m.\u001b[0m\u001b[0mformat\u001b[0m\u001b[0;34m\u001b[0m\u001b[0;34m\u001b[0m\u001b[0m\n\u001b[0m\u001b[1;32m     10\u001b[0m \u001b[0mprint\u001b[0m\u001b[0;34m(\u001b[0m\u001b[0mdf\u001b[0m\u001b[0;34m[\u001b[0m\u001b[0;34m'edad'\u001b[0m\u001b[0;34m]\u001b[0m\u001b[0;34m.\u001b[0m\u001b[0mdescribe\u001b[0m\u001b[0;34m(\u001b[0m\u001b[0;34m)\u001b[0m\u001b[0;34m)\u001b[0m\u001b[0;34m\u001b[0m\u001b[0;34m\u001b[0m\u001b[0m\n\u001b[1;32m     11\u001b[0m \u001b[0msns\u001b[0m\u001b[0;34m.\u001b[0m\u001b[0mboxplot\u001b[0m\u001b[0;34m(\u001b[0m\u001b[0mdf\u001b[0m\u001b[0;34m[\u001b[0m\u001b[0;34m'edad'\u001b[0m\u001b[0;34m]\u001b[0m\u001b[0;34m,\u001b[0m \u001b[0mwhis\u001b[0m\u001b[0;34m=\u001b[0m\u001b[0;36m3\u001b[0m\u001b[0;34m)\u001b[0m\u001b[0;34m\u001b[0m\u001b[0;34m\u001b[0m\u001b[0m\n",
      "\u001b[0;31mNameError\u001b[0m: name 'pd' is not defined"
     ]
    }
   ],
   "source": [
    "# edad\n",
    "\n",
    "\"\"\"\n",
    "La edad es unica para cada persona, es unico para cada registro de la tabla y todo registro tiene una edad\n",
    "Es una variable numerica continua\n",
    "El promedio de edad es de 34 años, la edad minima es de 0 años y la edad maxima es de 123 años\n",
    "\"\"\"\n",
    "\n",
    "pd.options.display.float_format = '{:.0f}'.format\n",
    "print(df['edad'].describe())\n",
    "sns.boxplot(df['edad'], whis=3)\n",
    "print('Cantidad de personas con edad:', df.edad.value_counts().sum(), 'vs Cantidad de registros:', len(df))"
   ]
  },
  {
   "cell_type": "code",
   "execution_count": 124,
   "metadata": {},
   "outputs": [
    {
     "name": "stdout",
     "output_type": "stream",
     "text": [
      "count          3676004\n",
      "unique              24\n",
      "top       Buenos Aires\n",
      "freq           1373232\n",
      "Name: provincia, dtype: object\n",
      "Cantidad de personas con provincia: 3676004 vs Cantidad de registros: 3676004\n"
     ]
    }
   ],
   "source": [
    "# provincia_id y provincia\n",
    "\n",
    "\"\"\"\n",
    "La provincia y provincia_id es unica para cada persona, es unico para cada registro de la tabla y todo registro tiene una edad\n",
    "Es una variable categorica con 24 posibles valores\n",
    "Describe la provincia de residencia de la persona\n",
    "El valor mas frecuente es Buenos Aires\n",
    "\"\"\"\n",
    "\n",
    "print(df['provincia'].describe())\n",
    "print('Cantidad de personas con provincia:', df.provincia.value_counts().sum(), 'vs Cantidad de registros:', len(df))"
   ]
  },
  {
   "cell_type": "code",
   "execution_count": 125,
   "metadata": {},
   "outputs": [
    {
     "name": "stdout",
     "output_type": "stream",
     "text": [
      "count   3676004\n",
      "mean      21316\n",
      "std        6104\n",
      "min       17000\n",
      "25%       17000\n",
      "50%       17000\n",
      "75%       26000\n",
      "max       34000\n",
      "Name: monto_ultima_liquidacion, dtype: float64\n",
      "17000    2322749\n",
      "26000     892587\n",
      "34000     460668\n",
      "Name: monto_ultima_liquidacion, dtype: int64\n"
     ]
    },
    {
     "data": {
      "text/plain": [
       "<AxesSubplot:title={'center':'Porcentaje de registro por ultimo monto de liquidacion'}, xlabel='Monto Ultima Liquidacion', ylabel='Porcentaje de registros'>"
      ]
     },
     "execution_count": 125,
     "metadata": {},
     "output_type": "execute_result"
    },
    {
     "data": {
      "image/png": "[encoded data removed]",
      "text/plain": [
       "<Figure size 432x288 with 1 Axes>"
      ]
     },
     "metadata": {
      "needs_background": "light"
     },
     "output_type": "display_data"
    }
   ],
   "source": [
    "# monto_ultima_liquidacion\n",
    "\n",
    "\"\"\"\n",
    "El monto_ultima_liquidacion indica el monto de la ultima liquidacion de la persona en la provincia y periodo indicado\n",
    "Es una variable numerica continua\n",
    "No se observan valores nulos\n",
    "vemos que hay tres valores posibles 17000, 26000 y 34000\n",
    "\"\"\"\n",
    "\n",
    "print(df['monto_ultima_liquidacion'].describe())\n",
    "\n",
    "\"\"\"\n",
    "Al ver un describe de la variable monto_ultima_liquidacion se observa que el valor minimo es 17000 y el valor maximo es 34000.\n",
    "\"\"\"\n",
    "mul_value_counts = df['monto_ultima_liquidacion'].value_counts()\n",
    "print(mul_value_counts)\n",
    "(mul_value_counts / len(df)).plot(\n",
    "    kind='bar', \n",
    "    xlabel='Monto Ultima Liquidacion', \n",
    "    ylabel='Porcentaje de registros', \n",
    "    title='Porcentaje de registro por ultimo monto de liquidacion'\n",
    ")\n"
   ]
  },
  {
   "cell_type": "code",
   "execution_count": 127,
   "metadata": {},
   "outputs": [
    {
     "name": "stdout",
     "output_type": "stream",
     "text": [
      "count        3676004\n",
      "unique            34\n",
      "top       2021-05-01\n",
      "freq          833042\n",
      "Name: periodo_desde, dtype: object\n",
      "2021-05-01    833042\n",
      "2020-03-01    582280\n",
      "2020-02-01    454661\n",
      "2020-01-01    400567\n",
      "2020-09-01    257093\n",
      "2021-10-01    135216\n",
      "2022-05-01    111723\n",
      "2022-02-01    104494\n",
      "2021-07-01     96667\n",
      "2020-04-01     85269\n",
      "2022-04-01     64079\n",
      "2022-01-01     43649\n",
      "2023-08-01     41784\n",
      "2022-06-01     38507\n",
      "2021-12-01     36308\n",
      "2021-11-01     33632\n",
      "2022-03-01     32987\n",
      "2022-07-01     32137\n",
      "2023-01-01     30097\n",
      "2022-09-01     29423\n",
      "2022-12-01     28994\n",
      "2022-11-01     27549\n",
      "2023-07-01     26591\n",
      "2022-10-01     26038\n",
      "2023-04-01     24530\n",
      "2023-03-01     23393\n",
      "2023-05-01     23159\n",
      "2023-02-01     22476\n",
      "2023-06-01     22273\n",
      "2019-12-01      6920\n",
      "2020-05-01       451\n",
      "2021-06-01        13\n",
      "2020-08-01         1\n",
      "2020-10-01         1\n",
      "Name: periodo_desde, dtype: int64\n",
      "Cantidad de personas con periodo_desde: 3676004 vs Cantidad de registros: 3676004\n",
      "count        3676004\n",
      "unique            34\n",
      "top       2023-08-01\n",
      "freq         2329047\n",
      "Name: periodo_hasta, dtype: object\n",
      "2023-08-01    2329047\n",
      "2022-05-01     139902\n",
      "2023-07-01      99428\n",
      "2021-09-01      87879\n",
      "2022-04-01      79303\n",
      "2023-06-01      67984\n",
      "2023-05-01      66936\n",
      "2022-02-01      66933\n",
      "2023-04-01      60997\n",
      "2021-04-01      60875\n",
      "2023-03-01      59547\n",
      "2020-08-01      52370\n",
      "2022-12-01      45732\n",
      "2023-01-01      44891\n",
      "2023-02-01      43798\n",
      "2022-10-01      41841\n",
      "2022-11-01      41322\n",
      "2022-09-01      41297\n",
      "2022-06-01      40436\n",
      "2022-08-01      40221\n",
      "2022-03-01      31201\n",
      "2022-01-01      27636\n",
      "2021-12-01      27170\n",
      "2021-05-01      26749\n",
      "2021-10-01      25812\n",
      "2021-11-01      24941\n",
      "2021-08-01        590\n",
      "2021-01-01        533\n",
      "2021-06-01        330\n",
      "2020-12-01        146\n",
      "2021-03-01         84\n",
      "2021-02-01         71\n",
      "2020-05-01          1\n",
      "2020-09-01          1\n",
      "Name: periodo_hasta, dtype: int64\n",
      "Cantidad de personas con periodo_hasta: 3676004 vs Cantidad de registros: 3676004\n",
      "count                        3676004\n",
      "mean     770 days 08:33:10.590216928\n",
      "std      451 days 07:35:41.716531680\n",
      "min                  0 days 00:00:00\n",
      "25%                365 days 00:00:00\n",
      "50%                822 days 00:00:00\n",
      "75%               1248 days 00:00:00\n",
      "max               1339 days 00:00:00\n",
      "Name: duracion, dtype: object\n"
     ]
    }
   ],
   "source": [
    "# periodo_desde\n",
    "\n",
    "\"\"\"\n",
    "El periodo_desde indica la fecha de inicio de la liquidacion\n",
    "La variable toma la forma de una fecha que indica el primer dia del mes.\n",
    "Tiene 34 valores diferentes\n",
    "\"\"\"\n",
    "\n",
    "print(df['periodo_desde'].describe())\n",
    "print(df['periodo_desde'].value_counts())\n",
    "print('Cantidad de personas con periodo_desde:', df.periodo_desde.value_counts().sum(), 'vs Cantidad de registros:', len(df))\n",
    "\n",
    "\"\"\"\n",
    "Vemos que no hay datos nulos pero vemos que en ciertos meses no se iniciaron liquidaciones, por ejemplo 2022-08-01 y 2021-09-01 entre otros.\n",
    "El valor mas frecuente es 2021-08-01\n",
    "\"\"\"\n",
    "\n",
    "# periodo_hasta\n",
    "    \n",
    "\"\"\"\n",
    "El periodo_hasta indica la fecha de fin de la liquidacion\n",
    "La variable toma la forma de una fecha que indica el primer dia del mes.\n",
    "\"\"\"\n",
    "\n",
    "print(df['periodo_hasta'].describe())\n",
    "print(df['periodo_hasta'].value_counts())\n",
    "print('Cantidad de personas con periodo_hasta:', df.periodo_desde.value_counts().sum(), 'vs Cantidad de registros:', len(df))\n",
    "\n",
    "\"\"\"\n",
    "El valor mas frecuente es 2023-08-01, que es el mes de la actualizacion de los datos\n",
    "\"\"\"\n"
   ]
  },
  {
   "cell_type": "code",
   "execution_count": 128,
   "metadata": {},
   "outputs": [
    {
     "name": "stdout",
     "output_type": "stream",
     "text": [
      "count                        3676004\n",
      "mean     770 days 08:33:10.590216928\n",
      "std      451 days 07:35:41.716531680\n",
      "min                  0 days 00:00:00\n",
      "25%                365 days 00:00:00\n",
      "50%                822 days 00:00:00\n",
      "75%               1248 days 00:00:00\n",
      "max               1339 days 00:00:00\n",
      "Name: duracion, dtype: object\n"
     ]
    }
   ],
   "source": [
    "# duracion\n",
    "\n",
    "\"\"\"\n",
    "La duracion es una variable calculada a partir de las variables periodo_desde y periodo_hasta\n",
    "Vemos que la mediana de la duracion es de 822 dias. \n",
    "El minimo es de 0 dias, por lo que hay personas que solo cobraron una vez.\n",
    "\"\"\"\n",
    "\n",
    "print(df['duracion'].describe())"
   ]
  }
 ],
 "metadata": {
  "kernelspec": {
   "display_name": "default",
   "language": "python",
   "name": "python3"
  },
  "language_info": {
   "codemirror_mode": {
    "name": "ipython",
    "version": 3
   },
   "file_extension": ".py",
   "mimetype": "text/x-python",
   "name": "python",
   "nbconvert_exporter": "python",
   "pygments_lexer": "ipython3",
   "version": "3.9.4"
  }
 },
 "nbformat": 4,
 "nbformat_minor": 2
}
