{
  "cells": [
    {
      "cell_type": "code",
      "execution_count": 1,
      "metadata": {
        "id": "StLXGGDCjAEQ"
      },
      "outputs": [],
      "source": [
        "import pandas as pd\n",
        "import numpy as np\n",
        "import seaborn as sns\n",
        "import matplotlib.pyplot as plt"
      ]
    },
    {
      "cell_type": "markdown",
      "metadata": {
        "id": "wIaLYJOzjAEU"
      },
      "source": [
        "# Práctica Aproximación a la calidad de datos"
      ]
    },
    {
      "cell_type": "code",
      "execution_count": 2,
      "metadata": {
        "colab": {
          "base_uri": "https://localhost:8080/",
          "height": 197
        },
        "id": "ip536FM6jAEV",
        "outputId": "e2320b6b-7bd0-4bc7-8d56-7a469e66d666"
      },
      "outputs": [
        {
          "data": {
            "text/html": [
              "<div>\n",
              "<style scoped>\n",
              "    .dataframe tbody tr th:only-of-type {\n",
              "        vertical-align: middle;\n",
              "    }\n",
              "\n",
              "    .dataframe tbody tr th {\n",
              "        vertical-align: top;\n",
              "    }\n",
              "\n",
              "    .dataframe thead th {\n",
              "        text-align: right;\n",
              "    }\n",
              "</style>\n",
              "<table border=\"1\" class=\"dataframe\">\n",
              "  <thead>\n",
              "    <tr style=\"text-align: right;\">\n",
              "      <th></th>\n",
              "      <th>persona_id</th>\n",
              "      <th>sexo</th>\n",
              "      <th>edad</th>\n",
              "      <th>provincia_id</th>\n",
              "      <th>provincia</th>\n",
              "      <th>departamento_id</th>\n",
              "      <th>departamento</th>\n",
              "      <th>monto_ultima_liquidacion</th>\n",
              "      <th>periodo_desde</th>\n",
              "      <th>periodo_hasta</th>\n",
              "    </tr>\n",
              "  </thead>\n",
              "  <tbody>\n",
              "    <tr>\n",
              "      <th>0</th>\n",
              "      <td>413f389c-d94d-43d3-b00c-c58419562331</td>\n",
              "      <td>M</td>\n",
              "      <td>88</td>\n",
              "      <td>2</td>\n",
              "      <td>Ciudad de Buenos Aires</td>\n",
              "      <td>2000</td>\n",
              "      <td>Comuna 1,Comuna 10,Comuna 11,Comuna 12,Comuna ...</td>\n",
              "      <td>17000</td>\n",
              "      <td>2022-05-01</td>\n",
              "      <td>2023-04-01</td>\n",
              "    </tr>\n",
              "    <tr>\n",
              "      <th>1</th>\n",
              "      <td>330e50e9-ff39-44dc-a882-b3255c2c7395</td>\n",
              "      <td>M</td>\n",
              "      <td>90</td>\n",
              "      <td>2</td>\n",
              "      <td>Ciudad de Buenos Aires</td>\n",
              "      <td>2000</td>\n",
              "      <td>Comuna 1,Comuna 10,Comuna 11,Comuna 12,Comuna ...</td>\n",
              "      <td>17000</td>\n",
              "      <td>2020-03-01</td>\n",
              "      <td>2022-03-01</td>\n",
              "    </tr>\n",
              "    <tr>\n",
              "      <th>2</th>\n",
              "      <td>4c6be991-231f-4dc2-92c3-487819d2dd91</td>\n",
              "      <td>M</td>\n",
              "      <td>85</td>\n",
              "      <td>2</td>\n",
              "      <td>Ciudad de Buenos Aires</td>\n",
              "      <td>2000</td>\n",
              "      <td>Comuna 1,Comuna 10,Comuna 11,Comuna 12,Comuna ...</td>\n",
              "      <td>17000</td>\n",
              "      <td>2022-01-01</td>\n",
              "      <td>2022-05-01</td>\n",
              "    </tr>\n",
              "    <tr>\n",
              "      <th>3</th>\n",
              "      <td>20b21518-ac89-459a-88f8-d4aa2e48ae21</td>\n",
              "      <td>M</td>\n",
              "      <td>81</td>\n",
              "      <td>2</td>\n",
              "      <td>Ciudad de Buenos Aires</td>\n",
              "      <td>2000</td>\n",
              "      <td>Comuna 1,Comuna 10,Comuna 11,Comuna 12,Comuna ...</td>\n",
              "      <td>17000</td>\n",
              "      <td>2022-12-01</td>\n",
              "      <td>2023-01-01</td>\n",
              "    </tr>\n",
              "    <tr>\n",
              "      <th>4</th>\n",
              "      <td>6626c34f-9088-492f-a016-4f72fa8ddcea</td>\n",
              "      <td>M</td>\n",
              "      <td>72</td>\n",
              "      <td>2</td>\n",
              "      <td>Ciudad de Buenos Aires</td>\n",
              "      <td>2000</td>\n",
              "      <td>Comuna 1,Comuna 10,Comuna 11,Comuna 12,Comuna ...</td>\n",
              "      <td>34000</td>\n",
              "      <td>2021-05-01</td>\n",
              "      <td>2021-09-01</td>\n",
              "    </tr>\n",
              "  </tbody>\n",
              "</table>\n",
              "</div>"
            ],
            "text/plain": [
              "                             persona_id sexo  edad  provincia_id  \\\n",
              "0  413f389c-d94d-43d3-b00c-c58419562331    M    88             2   \n",
              "1  330e50e9-ff39-44dc-a882-b3255c2c7395    M    90             2   \n",
              "2  4c6be991-231f-4dc2-92c3-487819d2dd91    M    85             2   \n",
              "3  20b21518-ac89-459a-88f8-d4aa2e48ae21    M    81             2   \n",
              "4  6626c34f-9088-492f-a016-4f72fa8ddcea    M    72             2   \n",
              "\n",
              "                provincia  departamento_id  \\\n",
              "0  Ciudad de Buenos Aires             2000   \n",
              "1  Ciudad de Buenos Aires             2000   \n",
              "2  Ciudad de Buenos Aires             2000   \n",
              "3  Ciudad de Buenos Aires             2000   \n",
              "4  Ciudad de Buenos Aires             2000   \n",
              "\n",
              "                                        departamento  \\\n",
              "0  Comuna 1,Comuna 10,Comuna 11,Comuna 12,Comuna ...   \n",
              "1  Comuna 1,Comuna 10,Comuna 11,Comuna 12,Comuna ...   \n",
              "2  Comuna 1,Comuna 10,Comuna 11,Comuna 12,Comuna ...   \n",
              "3  Comuna 1,Comuna 10,Comuna 11,Comuna 12,Comuna ...   \n",
              "4  Comuna 1,Comuna 10,Comuna 11,Comuna 12,Comuna ...   \n",
              "\n",
              "   monto_ultima_liquidacion periodo_desde periodo_hasta  \n",
              "0                     17000    2022-05-01    2023-04-01  \n",
              "1                     17000    2020-03-01    2022-03-01  \n",
              "2                     17000    2022-01-01    2022-05-01  \n",
              "3                     17000    2022-12-01    2023-01-01  \n",
              "4                     34000    2021-05-01    2021-09-01  "
            ]
          },
          "execution_count": 2,
          "metadata": {},
          "output_type": "execute_result"
        }
      ],
      "source": [
        "df = pd.read_csv('titulares_prestacion_alimentar-2023-08-01.csv')\n",
        "df.head()"
      ]
    },
    {
      "cell_type": "markdown",
      "metadata": {
        "id": "um0RgA4ujAEX"
      },
      "source": [
        "### a) Analizamos consistencia entre pares\n",
        "\n",
        "Analizaremos provincia_id junto con provincia y departamento_id junto con departamento"
      ]
    },
    {
      "cell_type": "code",
      "execution_count": 3,
      "metadata": {
        "colab": {
          "base_uri": "https://localhost:8080/"
        },
        "id": "N7ZJbDLejAEX",
        "outputId": "6c4ab481-e2c7-4adc-ee59-fe6cfd0c5ada"
      },
      "outputs": [
        {
          "data": {
            "text/plain": [
              "provincia               provincia_id\n",
              "Buenos Aires            2                   281\n",
              "                        6               1372951\n",
              "Catamarca               10                34928\n",
              "Chaco                   22               145446\n",
              "Chubut                  26                40775\n",
              "Ciudad de Buenos Aires  2                126813\n",
              "Corrientes              18               115298\n",
              "Córdoba                 14               285807\n",
              "Entre Ríos              30               101245\n",
              "Formosa                 34                65931\n",
              "Jujuy                   38                74023\n",
              "La Pampa                42                23742\n",
              "La Rioja                46                33260\n",
              "Mendoza                 50               166639\n",
              "Misiones                54               141589\n",
              "Neuquén                 58                48429\n",
              "Río Negro               62                55504\n",
              "Salta                   66               150081\n",
              "San Juan                70                74525\n",
              "San Luis                74                43003\n",
              "Santa Cruz              78                29250\n",
              "Santa Fe                82               253925\n",
              "Santiago del Estero     86               112720\n",
              "Tierra del Fuego        94                 9428\n",
              "Tucumán                 90               170411\n",
              "dtype: int64"
            ]
          },
          "execution_count": 3,
          "metadata": {},
          "output_type": "execute_result"
        }
      ],
      "source": [
        "df.groupby(['provincia', 'provincia_id']).size()"
      ]
    },
    {
      "cell_type": "markdown",
      "metadata": {
        "id": "zyUYOOekjAEX"
      },
      "source": [
        "Al analizar la salida anterior, podemos observar que Buenos Aires tiene dos identificadores de provincia posibles, que son 2 y 6. Sin embargo, es importante destacar que el identificador 2 también está asociado a Ciudad de Buenos Aires. Ahora, examinemos los registros que tienen el identificador de provincia 6 y que están relacionados con Buenos Aires para comprender mejor su contenido."
      ]
    },
    {
      "cell_type": "code",
      "execution_count": 4,
      "metadata": {
        "colab": {
          "base_uri": "https://localhost:8080/"
        },
        "id": "yNMYd0Y4jAEY",
        "outputId": "830659d5-0ad2-4bf6-ae5c-e1af3ef2ca85"
      },
      "outputs": [
        {
          "name": "stdout",
          "output_type": "stream",
          "text": [
            "                                   persona_id sexo  edad  provincia_id  \\\n",
            "3473615  47c0e820-db18-4985-8464-dae72c0db3b4    M    58             2   \n",
            "3473616  1fbbb5c6-5382-41a5-81a0-43ad3f62fa57    M    52             2   \n",
            "3473617  d734b6b7-4c4e-4807-bb19-529bf6124812    M    50             2   \n",
            "3473618  be786704-9cee-4a7f-96e1-c9b2943ecd52    M    49             2   \n",
            "3473619  11f5767d-3319-4338-b15d-c3b7c6eb0728    M    46             2   \n",
            "...                                       ...  ...   ...           ...   \n",
            "3473891  2700a00b-d924-41af-ad25-2db334799183    F    41             2   \n",
            "3473892  f6f321c9-0515-4f9e-abf9-6b2832f7b617    F    36             2   \n",
            "3473893  220db70b-7753-402b-9802-5e894c1d26c4    F    34             2   \n",
            "3473894  b81e84a8-e76d-4a09-990a-8912c3aa5c0b    F    24             2   \n",
            "3473895  841511d9-baf8-4638-bb7c-d79a308cd690    F    32             2   \n",
            "\n",
            "            provincia  departamento_id departamento  monto_ultima_liquidacion  \\\n",
            "3473615  Buenos Aires             6466       Lezama                     17000   \n",
            "3473616  Buenos Aires             6466       Lezama                     26000   \n",
            "3473617  Buenos Aires             6466       Lezama                     17000   \n",
            "3473618  Buenos Aires             6466       Lezama                     17000   \n",
            "3473619  Buenos Aires             6466       Lezama                     17000   \n",
            "...               ...              ...          ...                       ...   \n",
            "3473891  Buenos Aires             6466       Lezama                     17000   \n",
            "3473892  Buenos Aires             6466       Lezama                     26000   \n",
            "3473893  Buenos Aires             6466       Lezama                     34000   \n",
            "3473894  Buenos Aires             6466       Lezama                     17000   \n",
            "3473895  Buenos Aires             6466       Lezama                     26000   \n",
            "\n",
            "        periodo_desde periodo_hasta  \n",
            "3473615    2022-01-01    2022-05-01  \n",
            "3473616    2022-01-01    2022-01-01  \n",
            "3473617    2022-09-01    2023-08-01  \n",
            "3473618    2022-05-01    2022-05-01  \n",
            "3473619    2021-10-01    2023-08-01  \n",
            "...               ...           ...  \n",
            "3473891    2021-05-01    2021-09-01  \n",
            "3473892    2020-03-01    2023-02-01  \n",
            "3473893    2020-03-01    2023-08-01  \n",
            "3473894    2023-01-01    2023-08-01  \n",
            "3473895    2021-05-01    2023-08-01  \n",
            "\n",
            "[281 rows x 10 columns]\n",
            "['Lezama']\n"
          ]
        }
      ],
      "source": [
        "print(df[(df['provincia_id'] == 2) & (df['provincia'] == 'Buenos Aires')])\n",
        "print(np.unique(df[(df['provincia_id'] == 2) & (df['provincia'] == 'Buenos Aires')]['departamento']))"
      ]
    },
    {
      "cell_type": "markdown",
      "metadata": {
        "id": "ti9a-8AUjAEY"
      },
      "source": [
        "Observamos que en aquellos registros en los que el valor del identificador de provincia es 2, con Buenos Aires como provincia correspondiente, el departamento exclusivamente mencionado es Lezama."
      ]
    },
    {
      "cell_type": "markdown",
      "metadata": {
        "id": "CAQXDF7xjAEZ"
      },
      "source": [
        "Pasemos a analizar departamento_id y departamento"
      ]
    },
    {
      "cell_type": "code",
      "execution_count": 5,
      "metadata": {
        "colab": {
          "base_uri": "https://localhost:8080/"
        },
        "id": "sddODhsUjAEZ",
        "outputId": "19d99bbb-fc8b-420e-a487-00a668b0536c"
      },
      "outputs": [
        {
          "name": "stdout",
          "output_type": "stream",
          "text": [
            "                      departamento  departamento_id\n",
            "3                       25 de Mayo                5\n",
            "4                       9 de Julio                5\n",
            "5                    Adolfo Alsina                2\n",
            "11                 Almirante Brown                2\n",
            "24                      Avellaneda                3\n",
            "25                        Ayacucho                2\n",
            "33                        Belgrano                3\n",
            "39                         Bermejo                2\n",
            "55                         Capital               11\n",
            "69                       Chacabuco                3\n",
            "84                           Colón                3\n",
            "91                      Concepción                2\n",
            "100               Coronel Pringles                2\n",
            "133            Florentino Ameghino                2\n",
            "142                 General Alvear                3\n",
            "145               General Belgrano                3\n",
            "148                 General Güemes                2\n",
            "160                    General Paz                2\n",
            "164                   General Roca                2\n",
            "166             General San Martín                3\n",
            "190                  Independencia                2\n",
            "196                      Ituzaingó                2\n",
            "202                          Junín                3\n",
            "211                         La Paz                3\n",
            "224                        Lavalle                2\n",
            "226                Leandro N. Alem                2\n",
            "230  Libertador General San Martín                3\n",
            "248                          Maipú                3\n",
            "258                       Mercedes                2\n",
            "261                          Minas                2\n",
            "269                         Moreno                2\n",
            "289                     Pellegrini                2\n",
            "319                         Rawson                2\n",
            "322                      Rivadavia                5\n",
            "330                      Río Chico                2\n",
            "346                    San Antonio                2\n",
            "349                     San Carlos                2\n",
            "353                   San Fernando                2\n",
            "356                     San Javier                3\n",
            "358                      San Justo                2\n",
            "359                    San Lorenzo                2\n",
            "361                     San Martín                5\n",
            "362                     San Miguel                2\n",
            "364                      San Pedro                3\n",
            "373                    Santa María                2\n",
            "374                     Santa Rosa                2\n",
            "378                      Sarmiento                3\n"
          ]
        }
      ],
      "source": [
        "inconsistent_pairs = df.groupby('departamento')['departamento_id'].nunique().reset_index()\n",
        "print(inconsistent_pairs[inconsistent_pairs['departamento_id'] > 1])\n"
      ]
    },
    {
      "cell_type": "markdown",
      "metadata": {
        "id": "oz3aJFkdjAEa"
      },
      "source": [
        "En el contexto de las relaciones entre departamento y departamento_id, es evidente que los nombres de los departamentos tienden a repetirse con mayor frecuencia. Esto se debe principalmente a la naturaleza de los departamentos, ya que en diferentes provincias es común encontrar departamentos con nombres idénticos o similares. Mas adelante analizaremos la unicidad de la jerarquia entre provincia y departamento. Por ahora veremos cuantas jerarquias distintas existen."
      ]
    },
    {
      "cell_type": "code",
      "execution_count": 6,
      "metadata": {},
      "outputs": [
        {
          "name": "stdout",
          "output_type": "stream",
          "text": [
            "Jerarquias distintas: 516\n"
          ]
        }
      ],
      "source": [
        "temp = df.apply(lambda row: f\"{row['provincia']}, {row['departamento']}\", axis=1)\n",
        "print(f'Jerarquias distintas: {temp.nunique()}')"
      ]
    },
    {
      "cell_type": "markdown",
      "metadata": {
        "id": "QagfcSFDjAEa"
      },
      "source": [
        "### b) Generar una nueva variable que se llame duración, que represente el período durante el cual se accedió al beneficio."
      ]
    },
    {
      "cell_type": "code",
      "execution_count": 7,
      "metadata": {
        "colab": {
          "base_uri": "https://localhost:8080/"
        },
        "id": "B8nYvMQZjAEa",
        "outputId": "97ea4092-03ce-4e63-b6a8-79fc3d6ebb10"
      },
      "outputs": [
        {
          "data": {
            "text/plain": [
              "0          335 days\n",
              "1          730 days\n",
              "2          120 days\n",
              "3           31 days\n",
              "4          123 days\n",
              "             ...   \n",
              "3675999    822 days\n",
              "3676000    578 days\n",
              "3676001    671 days\n",
              "3676002   1126 days\n",
              "3676003    579 days\n",
              "Name: duracion, Length: 3676004, dtype: timedelta64[ns]"
            ]
          },
          "execution_count": 7,
          "metadata": {},
          "output_type": "execute_result"
        }
      ],
      "source": [
        "df['duracion'] = pd.to_datetime(df['periodo_hasta']) - pd.to_datetime(df['periodo_desde'])\n",
        "\n",
        "df['duracion']"
      ]
    },
    {
      "cell_type": "markdown",
      "metadata": {
        "id": "l0iQ0YJJjAEa"
      },
      "source": [
        "### c) Efectuar una apreciación sobre la unicidad, la actualidad y la consistencia del dataset. Para la consistencia verificar si es posible utilizar datasets externos."
      ]
    },
    {
      "cell_type": "code",
      "execution_count": 8,
      "metadata": {
        "colab": {
          "base_uri": "https://localhost:8080/"
        },
        "id": "cyQGrLJqjAEb",
        "outputId": "a617db60-dccf-4f1f-901c-1284a6f6d17d"
      },
      "outputs": [
        {
          "name": "stdout",
          "output_type": "stream",
          "text": [
            "Numero total de registro: 3676004 vs Numero de personas unicas: 3676004\n",
            "Duplicados ----\n",
            "Empty DataFrame\n",
            "Columns: [persona_id, sexo, edad, provincia_id, provincia, departamento_id, departamento, monto_ultima_liquidacion, periodo_desde, periodo_hasta, duracion]\n",
            "Index: []\n",
            "-----------------\n",
            "Valores nulos ----\n",
            "persona_id                  0\n",
            "sexo                        0\n",
            "edad                        0\n",
            "provincia_id                0\n",
            "provincia                   0\n",
            "departamento_id             0\n",
            "departamento                0\n",
            "monto_ultima_liquidacion    0\n",
            "periodo_desde               0\n",
            "periodo_hasta               0\n",
            "duracion                    0\n",
            "dtype: int64\n",
            "-----------------\n",
            "Valores nulos por columna ----\n",
            "persona_id                  0\n",
            "sexo                        0\n",
            "edad                        0\n",
            "provincia_id                0\n",
            "provincia                   0\n",
            "departamento_id             0\n",
            "departamento                0\n",
            "monto_ultima_liquidacion    0\n",
            "periodo_desde               0\n",
            "periodo_hasta               0\n",
            "duracion                    0\n",
            "dtype: int64\n",
            "-----------------\n"
          ]
        },
        {
          "data": {
            "text/plain": [
              "'\\nAl analizar los datos, se observa que no se encuentran valores nulos en ninguna de las columnas.\\nAsi como tampoco registros duplicados.\\n'"
            ]
          },
          "execution_count": 8,
          "metadata": {},
          "output_type": "execute_result"
        }
      ],
      "source": [
        "# Unicidad\n",
        "print(f'Numero total de registro: {len(df)} vs Numero de personas unicas: {df[\"persona_id\"].nunique()}') # Numero total de registros\n",
        "\n",
        "# Duplicados\n",
        "print(\"Duplicados ----\")\n",
        "print(df[df.duplicated(['persona_id', 'periodo_desde', 'periodo_hasta'])])\n",
        "print(\"-----------------\")\n",
        "\n",
        "# Valores nulos\n",
        "print(\"Valores nulos ----\")\n",
        "print(df.isnull().sum())\n",
        "print(\"-----------------\")\n",
        "\n",
        "# Valores nulos por columna\n",
        "print(\"Valores nulos por columna ----\")\n",
        "print(df.isnull().sum(axis = 0))\n",
        "print(\"-----------------\")\n",
        "\n",
        "\"\"\"\n",
        "Al analizar los datos, se observa que no se encuentran valores nulos en ninguna de las columnas.\n",
        "Asi como tampoco registros duplicados.\n",
        "\"\"\""
      ]
    },
    {
      "cell_type": "markdown",
      "metadata": {
        "id": "c9naIznVjAEb"
      },
      "source": [
        "Para analizar la consistencia vamos a comparar la distribucion porcentual de las tarjetas alimentar con la distribucion poblacional resultante del censo 2022."
      ]
    },
    {
      "cell_type": "code",
      "execution_count": 9,
      "metadata": {
        "colab": {
          "base_uri": "https://localhost:8080/",
          "height": 802
        },
        "id": "yu0f9j8gjAEb",
        "outputId": "8ca23e8c-593e-4a77-b87d-bec9aa9ee37e"
      },
      "outputs": [
        {
          "data": {
            "text/html": [
              "<div>\n",
              "<style scoped>\n",
              "    .dataframe tbody tr th:only-of-type {\n",
              "        vertical-align: middle;\n",
              "    }\n",
              "\n",
              "    .dataframe tbody tr th {\n",
              "        vertical-align: top;\n",
              "    }\n",
              "\n",
              "    .dataframe thead th {\n",
              "        text-align: right;\n",
              "    }\n",
              "</style>\n",
              "<table border=\"1\" class=\"dataframe\">\n",
              "  <thead>\n",
              "    <tr style=\"text-align: right;\">\n",
              "      <th></th>\n",
              "      <th>provincia</th>\n",
              "      <th>porcentaje_poblacion</th>\n",
              "    </tr>\n",
              "  </thead>\n",
              "  <tbody>\n",
              "    <tr>\n",
              "      <th>0</th>\n",
              "      <td>Buenos Aires</td>\n",
              "      <td>38.16</td>\n",
              "    </tr>\n",
              "    <tr>\n",
              "      <th>1</th>\n",
              "      <td>Córdoba</td>\n",
              "      <td>8.64</td>\n",
              "    </tr>\n",
              "    <tr>\n",
              "      <th>2</th>\n",
              "      <td>Santa Fe</td>\n",
              "      <td>7.72</td>\n",
              "    </tr>\n",
              "    <tr>\n",
              "      <th>3</th>\n",
              "      <td>Ciudad de Buenos Aires</td>\n",
              "      <td>6.78</td>\n",
              "    </tr>\n",
              "    <tr>\n",
              "      <th>4</th>\n",
              "      <td>Mendoza</td>\n",
              "      <td>4.38</td>\n",
              "    </tr>\n",
              "    <tr>\n",
              "      <th>5</th>\n",
              "      <td>Tucumán</td>\n",
              "      <td>3.70</td>\n",
              "    </tr>\n",
              "    <tr>\n",
              "      <th>6</th>\n",
              "      <td>Salta</td>\n",
              "      <td>3.13</td>\n",
              "    </tr>\n",
              "    <tr>\n",
              "      <th>7</th>\n",
              "      <td>Entre Ríos</td>\n",
              "      <td>3.10</td>\n",
              "    </tr>\n",
              "    <tr>\n",
              "      <th>8</th>\n",
              "      <td>Misiones</td>\n",
              "      <td>2.78</td>\n",
              "    </tr>\n",
              "    <tr>\n",
              "      <th>9</th>\n",
              "      <td>Corrientes</td>\n",
              "      <td>2.60</td>\n",
              "    </tr>\n",
              "    <tr>\n",
              "      <th>10</th>\n",
              "      <td>Chaco</td>\n",
              "      <td>2.48</td>\n",
              "    </tr>\n",
              "    <tr>\n",
              "      <th>11</th>\n",
              "      <td>Santiago del Estero</td>\n",
              "      <td>2.29</td>\n",
              "    </tr>\n",
              "    <tr>\n",
              "      <th>12</th>\n",
              "      <td>San Juan</td>\n",
              "      <td>1.78</td>\n",
              "    </tr>\n",
              "    <tr>\n",
              "      <th>13</th>\n",
              "      <td>Jujuy</td>\n",
              "      <td>1.73</td>\n",
              "    </tr>\n",
              "    <tr>\n",
              "      <th>14</th>\n",
              "      <td>Río Negro</td>\n",
              "      <td>1.66</td>\n",
              "    </tr>\n",
              "    <tr>\n",
              "      <th>15</th>\n",
              "      <td>Neuquén</td>\n",
              "      <td>1.58</td>\n",
              "    </tr>\n",
              "    <tr>\n",
              "      <th>16</th>\n",
              "      <td>Formosa</td>\n",
              "      <td>1.32</td>\n",
              "    </tr>\n",
              "    <tr>\n",
              "      <th>17</th>\n",
              "      <td>Chubut</td>\n",
              "      <td>1.31</td>\n",
              "    </tr>\n",
              "    <tr>\n",
              "      <th>18</th>\n",
              "      <td>San Luis</td>\n",
              "      <td>1.17</td>\n",
              "    </tr>\n",
              "    <tr>\n",
              "      <th>19</th>\n",
              "      <td>Catamarca</td>\n",
              "      <td>0.93</td>\n",
              "    </tr>\n",
              "    <tr>\n",
              "      <th>20</th>\n",
              "      <td>La Rioja</td>\n",
              "      <td>0.84</td>\n",
              "    </tr>\n",
              "    <tr>\n",
              "      <th>21</th>\n",
              "      <td>La Pampa</td>\n",
              "      <td>0.79</td>\n",
              "    </tr>\n",
              "    <tr>\n",
              "      <th>22</th>\n",
              "      <td>Santa Cruz</td>\n",
              "      <td>0.72</td>\n",
              "    </tr>\n",
              "    <tr>\n",
              "      <th>23</th>\n",
              "      <td>Tierra del Fuego</td>\n",
              "      <td>0.41</td>\n",
              "    </tr>\n",
              "  </tbody>\n",
              "</table>\n",
              "</div>"
            ],
            "text/plain": [
              "                 provincia  porcentaje_poblacion\n",
              "0             Buenos Aires                 38.16\n",
              "1                  Córdoba                  8.64\n",
              "2                 Santa Fe                  7.72\n",
              "3   Ciudad de Buenos Aires                  6.78\n",
              "4                  Mendoza                  4.38\n",
              "5                  Tucumán                  3.70\n",
              "6                    Salta                  3.13\n",
              "7               Entre Ríos                  3.10\n",
              "8                 Misiones                  2.78\n",
              "9               Corrientes                  2.60\n",
              "10                   Chaco                  2.48\n",
              "11     Santiago del Estero                  2.29\n",
              "12                San Juan                  1.78\n",
              "13                   Jujuy                  1.73\n",
              "14               Río Negro                  1.66\n",
              "15                 Neuquén                  1.58\n",
              "16                 Formosa                  1.32\n",
              "17                  Chubut                  1.31\n",
              "18                San Luis                  1.17\n",
              "19               Catamarca                  0.93\n",
              "20                La Rioja                  0.84\n",
              "21                La Pampa                  0.79\n",
              "22              Santa Cruz                  0.72\n",
              "23        Tierra del Fuego                  0.41"
            ]
          },
          "execution_count": 9,
          "metadata": {},
          "output_type": "execute_result"
        }
      ],
      "source": [
        "distribucion_poblacional = pd.read_json('distribucion_poblacional.json', orient='index')\n",
        "\n",
        "# Reset the index and rename the columns\n",
        "distribucion_poblacional = distribucion_poblacional.reset_index().rename(columns={'index': 'provincia', 0: 'porcentaje_poblacion'})\n",
        "distribucion_poblacional"
      ]
    },
    {
      "cell_type": "code",
      "execution_count": 10,
      "metadata": {
        "colab": {
          "base_uri": "https://localhost:8080/",
          "height": 607
        },
        "id": "QaKAfk0njAEb",
        "outputId": "668d1f4f-a138-4866-a3d2-3df910ac00f5"
      },
      "outputs": [
        {
          "data": {
            "image/png": "[encoded data removed]",
            "text/plain": [
              "<Figure size 720x432 with 1 Axes>"
            ]
          },
          "metadata": {
            "needs_background": "light"
          },
          "output_type": "display_data"
        }
      ],
      "source": [
        "# Consistencia\n",
        "counts = df['provincia'].value_counts()\n",
        "\n",
        "provincia_percentages = (counts / len(df)) * 100\n",
        "\n",
        "df_plot = pd.DataFrame({'provincia': provincia_percentages.index, 'porcentaje': provincia_percentages.values})\n",
        "\n",
        "df_plot = df_plot.merge(pd.DataFrame.from_dict(distribucion_poblacional), on='provincia', how='inner')\n",
        "df_plot\n",
        "\n",
        "# Create a bar plot for 'porcentaje' and 'porcentaje_poblacion' columns\n",
        "ax = df_plot.plot(kind='bar', figsize=(10, 6))\n",
        "df_plot.set_index('provincia', inplace=True)\n",
        "\n",
        "# Set labels and title\n",
        "plt.xlabel('Provincia')\n",
        "plt.ylabel('Porcentaje')\n",
        "plt.title('Porcentaje Tarjetas vs. Porcentaje Poblacion por Provincia')\n",
        "# Display province names on the x-axis\n",
        "ax.set_xticklabels(df_plot.index, rotation=45, ha=\"right\")\n",
        "\n",
        "# Show the plot\n",
        "plt.tight_layout()\n",
        "plt.show()"
      ]
    },
    {
      "cell_type": "markdown",
      "metadata": {},
      "source": [
        "Basándonos en el gráfico previo, es evidente que la distribución de las tarjetas alimentarias se asemeja a la distribución poblacional a nivel provincial en su mayoría. No obstante, hay excepciones notables, como es el caso de la Ciudad de Buenos Aires. Esto podría explicarse por las diferencias en los niveles de pobreza presentes en cada jurisdicción, siendo la Ciudad de Buenos Aires notablemente menos afectada por la pobreza en comparación con otras regiones. La inclusión de datos externos procedentes de otras fuentes relacionados con el salario promedio o los niveles de pobreza a nivel provincial o incluso municipal podría contribuir a perfeccionar la evaluación de la distribución en el conjunto de datos. "
      ]
    },
    {
      "cell_type": "markdown",
      "metadata": {
        "id": "zX58N8IvjAEb"
      },
      "source": [
        "### d) Efectuar un análisis descriptivo de cada una de las variables, incluyendo el % de datos faltantes"
      ]
    },
    {
      "cell_type": "code",
      "execution_count": 11,
      "metadata": {
        "colab": {
          "base_uri": "https://localhost:8080/"
        },
        "id": "ydQJzRRojAEb",
        "outputId": "84e56dfb-1c4e-4d08-c20b-e6900b4ca6f7"
      },
      "outputs": [
        {
          "name": "stdout",
          "output_type": "stream",
          "text": [
            "Cantidad de persona_id distintos: 3676004 vs Cantidad de registros: 3676004\n"
          ]
        }
      ],
      "source": [
        "# persona_id\n",
        "\"\"\"\n",
        "El id de la persona es unico para cada persona, por es unico para cada registro de la tabla y todo registro tiene un id de persona.\n",
        "En el contexto de esta tabla, el id parece estar anonimizado, ya que no se puede relacionar con ningun otro dato de la tabla para identificar a la persona. \n",
        "\"\"\"\n",
        "\n",
        "print('Cantidad de persona_id distintos:', len(df['persona_id'].unique()), 'vs Cantidad de registros:', len(df))"
      ]
    },
    {
      "cell_type": "code",
      "execution_count": 12,
      "metadata": {
        "colab": {
          "base_uri": "https://localhost:8080/"
        },
        "id": "Z7r7ToxxjAEc",
        "outputId": "6808230c-6b60-4b17-b9c2-82c67de5eb36"
      },
      "outputs": [
        {
          "name": "stdout",
          "output_type": "stream",
          "text": [
            "F    0.890871\n",
            "M    0.109127\n",
            "X    0.000002\n",
            "Name: sexo, dtype: float64\n",
            "Cantidad de personas con sexo: 3676004 vs Cantidad de registros: 3676004\n"
          ]
        }
      ],
      "source": [
        "# sexo\n",
        "\"\"\"\n",
        "El sexo es unico para cada persona, por es unico para cada registro de la tabla y todo registro tiene un sexo\n",
        "Es una variable categorica con tres posibles valores: F, M y X\n",
        "El valor F es el mas frecuente\n",
        "\"\"\"\n",
        "\n",
        "print(df.sexo.value_counts() / len(df))\n",
        "print('Cantidad de personas con sexo:', df.sexo.value_counts().sum(), 'vs Cantidad de registros:', len(df))\n"
      ]
    },
    {
      "cell_type": "code",
      "execution_count": 13,
      "metadata": {
        "colab": {
          "base_uri": "https://localhost:8080/",
          "height": 609
        },
        "id": "GAmYC_RajAEc",
        "outputId": "35985b80-418b-4898-816b-922e5190c8da"
      },
      "outputs": [
        {
          "name": "stdout",
          "output_type": "stream",
          "text": [
            "count   3676004\n",
            "mean         34\n",
            "std           9\n",
            "min           0\n",
            "25%          27\n",
            "50%          33\n",
            "75%          40\n",
            "max         123\n",
            "Name: edad, dtype: float64\n",
            "Cantidad de personas con edad: 3676004 vs Cantidad de registros: 3676004\n"
          ]
        },
        {
          "data": {
            "image/png": "[encoded data removed]",
            "text/plain": [
              "<Figure size 432x288 with 1 Axes>"
            ]
          },
          "metadata": {
            "needs_background": "light"
          },
          "output_type": "display_data"
        }
      ],
      "source": [
        "# edad\n",
        "\n",
        "\"\"\"\n",
        "La edad es unica para cada persona, es unico para cada registro de la tabla y todo registro tiene una edad\n",
        "Es una variable numerica continua\n",
        "El promedio de edad es de 34 años, la edad minima es de 0 años y la edad maxima es de 123 años\n",
        "\"\"\"\n",
        "\n",
        "pd.options.display.float_format = '{:.0f}'.format\n",
        "print(df['edad'].describe())\n",
        "sns.boxplot(df['edad'])\n",
        "print('Cantidad de personas con edad:', df.edad.value_counts().sum(), 'vs Cantidad de registros:', len(df))"
      ]
    },
    {
      "cell_type": "code",
      "execution_count": 14,
      "metadata": {
        "colab": {
          "base_uri": "https://localhost:8080/"
        },
        "id": "D7lhyWymjAEc",
        "outputId": "cde1b4c2-efd2-4e9d-dcc8-d108b161ab82"
      },
      "outputs": [
        {
          "name": "stdout",
          "output_type": "stream",
          "text": [
            "count          3676004\n",
            "unique              24\n",
            "top       Buenos Aires\n",
            "freq           1373232\n",
            "Name: provincia, dtype: object\n",
            "Cantidad de personas con provincia: 3676004 vs Cantidad de registros: 3676004\n"
          ]
        }
      ],
      "source": [
        "# provincia_id y provincia\n",
        "\n",
        "\"\"\"\n",
        "La provincia y provincia_id es unica para cada persona, es unico para cada registro de la tabla.\n",
        "Es una variable categorica con 24 posibles valores\n",
        "Describe la provincia de residencia de la persona\n",
        "El valor mas frecuente es Buenos Aires\n",
        "\"\"\"\n",
        "\n",
        "print(df['provincia'].describe())\n",
        "print('Cantidad de personas con provincia:', df.provincia.value_counts().sum(), 'vs Cantidad de registros:', len(df))"
      ]
    },
    {
      "cell_type": "code",
      "execution_count": 15,
      "metadata": {},
      "outputs": [
        {
          "name": "stdout",
          "output_type": "stream",
          "text": [
            "count                      3676004\n",
            "unique                         516\n",
            "top       Buenos Aires, La Matanza\n",
            "freq                        152406\n",
            "dtype: object\n",
            "Cantidad de personas con departamento: 3676004 vs Cantidad de registros: 3676004\n"
          ]
        }
      ],
      "source": [
        "# departamento_id y departamento\n",
        "\n",
        "\"\"\"\n",
        "La departamento y departamento_id es unica para cada persona, es unico para cada registro de la tabla\n",
        "Es una variable categorica con 434 valores posibles que son jerarquicos con respecto a provincia.\n",
        "Describe el departamento dentro dentro de la provincia de residencia de la persona\n",
        "\n",
        "Existen 516 pares provincia y departamento distintos, siendo el par mas frecuente Buenos Aires, La Matanza\n",
        "\"\"\"\n",
        "temp = df.apply(lambda row: f\"{row['provincia']}, {row['departamento']}\", axis=1)\n",
        "print(temp.describe())\n",
        "print('Cantidad de personas con departamento:', df.provincia.value_counts().sum(), 'vs Cantidad de registros:', len(df))"
      ]
    },
    {
      "cell_type": "code",
      "execution_count": 16,
      "metadata": {
        "colab": {
          "base_uri": "https://localhost:8080/",
          "height": 765
        },
        "id": "TsB9CgWqjAEd",
        "outputId": "5045618d-d775-44c1-903a-b114626bd6f4"
      },
      "outputs": [
        {
          "name": "stdout",
          "output_type": "stream",
          "text": [
            "count   3676004\n",
            "mean      21316\n",
            "std        6104\n",
            "min       17000\n",
            "25%       17000\n",
            "50%       17000\n",
            "75%       26000\n",
            "max       34000\n",
            "Name: monto_ultima_liquidacion, dtype: float64\n",
            "17000    2322749\n",
            "26000     892587\n",
            "34000     460668\n",
            "Name: monto_ultima_liquidacion, dtype: int64\n"
          ]
        },
        {
          "data": {
            "text/plain": [
              "<AxesSubplot:title={'center':'Porcentaje de registro por ultimo monto de liquidacion'}, xlabel='Monto Ultima Liquidacion', ylabel='Porcentaje de registros'>"
            ]
          },
          "execution_count": 16,
          "metadata": {},
          "output_type": "execute_result"
        },
        {
          "data": {
            "image/png": "[encoded data removed]",
            "text/plain": [
              "<Figure size 432x288 with 1 Axes>"
            ]
          },
          "metadata": {
            "needs_background": "light"
          },
          "output_type": "display_data"
        }
      ],
      "source": [
        "# monto_ultima_liquidacion\n",
        "\n",
        "\"\"\"\n",
        "El monto_ultima_liquidacion indica el monto de la ultima liquidacion de la persona en la provincia y periodo indicado\n",
        "Es una variable numerica continua\n",
        "No se observan valores nulos\n",
        "vemos que hay tres valores posibles 17000, 26000 y 34000\n",
        "\"\"\"\n",
        "\n",
        "print(df['monto_ultima_liquidacion'].describe())\n",
        "\n",
        "\"\"\"\n",
        "Al ver un describe de la variable monto_ultima_liquidacion se observa que el valor minimo es 17000 y el valor maximo es 34000.\n",
        "\"\"\"\n",
        "mul_value_counts = df['monto_ultima_liquidacion'].value_counts()\n",
        "print(mul_value_counts)\n",
        "(mul_value_counts / len(df)).plot(\n",
        "    kind='bar',\n",
        "    xlabel='Monto Ultima Liquidacion',\n",
        "    ylabel='Porcentaje de registros',\n",
        "    title='Porcentaje de registro por ultimo monto de liquidacion'\n",
        ")\n"
      ]
    },
    {
      "cell_type": "code",
      "execution_count": 17,
      "metadata": {
        "colab": {
          "base_uri": "https://localhost:8080/",
          "height": 1000
        },
        "id": "X-P36pijjAEd",
        "outputId": "3313fd42-3f29-48a9-b035-8858bccaf935"
      },
      "outputs": [
        {
          "name": "stdout",
          "output_type": "stream",
          "text": [
            "count        3676004\n",
            "unique            34\n",
            "top       2021-05-01\n",
            "freq          833042\n",
            "Name: periodo_desde, dtype: object\n",
            "2021-05-01    833042\n",
            "2020-03-01    582280\n",
            "2020-02-01    454661\n",
            "2020-01-01    400567\n",
            "2020-09-01    257093\n",
            "2021-10-01    135216\n",
            "2022-05-01    111723\n",
            "2022-02-01    104494\n",
            "2021-07-01     96667\n",
            "2020-04-01     85269\n",
            "2022-04-01     64079\n",
            "2022-01-01     43649\n",
            "2023-08-01     41784\n",
            "2022-06-01     38507\n",
            "2021-12-01     36308\n",
            "2021-11-01     33632\n",
            "2022-03-01     32987\n",
            "2022-07-01     32137\n",
            "2023-01-01     30097\n",
            "2022-09-01     29423\n",
            "2022-12-01     28994\n",
            "2022-11-01     27549\n",
            "2023-07-01     26591\n",
            "2022-10-01     26038\n",
            "2023-04-01     24530\n",
            "2023-03-01     23393\n",
            "2023-05-01     23159\n",
            "2023-02-01     22476\n",
            "2023-06-01     22273\n",
            "2019-12-01      6920\n",
            "2020-05-01       451\n",
            "2021-06-01        13\n",
            "2020-08-01         1\n",
            "2020-10-01         1\n",
            "Name: periodo_desde, dtype: int64\n",
            "Cantidad de personas con periodo_desde: 3676004 vs Cantidad de registros: 3676004\n",
            "count        3676004\n",
            "unique            34\n",
            "top       2023-08-01\n",
            "freq         2329047\n",
            "Name: periodo_hasta, dtype: object\n",
            "2023-08-01    2329047\n",
            "2022-05-01     139902\n",
            "2023-07-01      99428\n",
            "2021-09-01      87879\n",
            "2022-04-01      79303\n",
            "2023-06-01      67984\n",
            "2023-05-01      66936\n",
            "2022-02-01      66933\n",
            "2023-04-01      60997\n",
            "2021-04-01      60875\n",
            "2023-03-01      59547\n",
            "2020-08-01      52370\n",
            "2022-12-01      45732\n",
            "2023-01-01      44891\n",
            "2023-02-01      43798\n",
            "2022-10-01      41841\n",
            "2022-11-01      41322\n",
            "2022-09-01      41297\n",
            "2022-06-01      40436\n",
            "2022-08-01      40221\n",
            "2022-03-01      31201\n",
            "2022-01-01      27636\n",
            "2021-12-01      27170\n",
            "2021-05-01      26749\n",
            "2021-10-01      25812\n",
            "2021-11-01      24941\n",
            "2021-08-01        590\n",
            "2021-01-01        533\n",
            "2021-06-01        330\n",
            "2020-12-01        146\n",
            "2021-03-01         84\n",
            "2021-02-01         71\n",
            "2020-09-01          1\n",
            "2020-05-01          1\n",
            "Name: periodo_hasta, dtype: int64\n",
            "Cantidad de personas con periodo_hasta: 3676004 vs Cantidad de registros: 3676004\n"
          ]
        },
        {
          "data": {
            "text/plain": [
              "'\\nEl valor mas frecuente es 2023-08-01, que es el mes de la actualizacion de los datos\\n'"
            ]
          },
          "execution_count": 17,
          "metadata": {},
          "output_type": "execute_result"
        }
      ],
      "source": [
        "# periodo_desde\n",
        "\n",
        "\"\"\"\n",
        "El periodo_desde indica la fecha de inicio de la liquidacion\n",
        "La variable toma la forma de una fecha que indica el primer dia del mes.\n",
        "Tiene 34 valores diferentes\n",
        "\"\"\"\n",
        "\n",
        "print(df['periodo_desde'].describe())\n",
        "print(df['periodo_desde'].value_counts())\n",
        "print('Cantidad de personas con periodo_desde:', df.periodo_desde.value_counts().sum(), 'vs Cantidad de registros:', len(df))\n",
        "\n",
        "\"\"\"\n",
        "Vemos que no hay datos nulos pero vemos que en ciertos meses no se iniciaron liquidaciones, por ejemplo 2022-08-01 y 2021-09-01 entre otros.\n",
        "El valor mas frecuente es 2021-08-01\n",
        "\"\"\"\n",
        "\n",
        "# periodo_hasta\n",
        "\n",
        "\"\"\"\n",
        "El periodo_hasta indica la fecha de fin de la liquidacion\n",
        "La variable toma la forma de una fecha que indica el primer dia del mes.\n",
        "\"\"\"\n",
        "\n",
        "print(df['periodo_hasta'].describe())\n",
        "print(df['periodo_hasta'].value_counts())\n",
        "print('Cantidad de personas con periodo_hasta:', df.periodo_desde.value_counts().sum(), 'vs Cantidad de registros:', len(df))\n",
        "\n",
        "\"\"\"\n",
        "El valor mas frecuente es 2023-08-01, que es el mes de la actualizacion de los datos\n",
        "\"\"\"\n"
      ]
    },
    {
      "cell_type": "code",
      "execution_count": 18,
      "metadata": {
        "colab": {
          "base_uri": "https://localhost:8080/"
        },
        "id": "xw-qWcaCjAEd",
        "outputId": "229ffc68-867f-43a4-b1ac-c4a0b82cbee2"
      },
      "outputs": [
        {
          "name": "stdout",
          "output_type": "stream",
          "text": [
            "count                        3676004\n",
            "mean     770 days 08:33:10.590216928\n",
            "std      451 days 07:35:41.716531680\n",
            "min                  0 days 00:00:00\n",
            "25%                365 days 00:00:00\n",
            "50%                822 days 00:00:00\n",
            "75%               1248 days 00:00:00\n",
            "max               1339 days 00:00:00\n",
            "Name: duracion, dtype: object\n"
          ]
        }
      ],
      "source": [
        "# duracion\n",
        "\n",
        "\"\"\"\n",
        "La duracion es una variable calculada a partir de las variables periodo_desde y periodo_hasta\n",
        "Vemos que la mediana de la duracion es de 822 dias.\n",
        "El minimo es de 0 dias, por lo que hay personas que solo cobraron una vez.\n",
        "\"\"\"\n",
        "\n",
        "print(df['duracion'].describe())"
      ]
    },
    {
      "cell_type": "markdown",
      "metadata": {
        "id": "4i_Pj1OmuWKO"
      },
      "source": [
        "### e) Efectuar un análisis bivariado de los siguientes pares de variables"
      ]
    },
    {
      "cell_type": "markdown",
      "metadata": {
        "id": "Y6SUjP6bufs1"
      },
      "source": [
        "####a. Sexo vs. Monto_ultima_liquidacion\n",
        "(Variable Nominal vs Variable Numérica)"
      ]
    },
    {
      "cell_type": "code",
      "execution_count": 19,
      "metadata": {
        "id": "E7oq9AcduVeU"
      },
      "outputs": [],
      "source": [
        "\"\"\"\n",
        "Teniendo en cuenta que analizamos que la variable monto_ultima_liquidacion toma solo tres valores posible consideramos que para el análisis\n",
        "bivariado usariamos gráficos de barra y boxplot y no el histograma, ya que en este contexto armar un histograma por cada sexo sería lo mismo\n",
        "que armar un gráfico de barras con el detalle de que en el histograma se desdibujaría la precisión de los datos al distribuirlos en rangos.\n",
        "\"\"\"\n",
        "\n",
        "#Seteamos variables para el gráfico de barras\n",
        "s_groups = df['sexo'].unique()\n",
        "groups_of_values = []\n",
        "for s in s_groups:\n",
        "    query = 'sexo == \"{x}\"'.format(x=s)\n",
        "    query_res = df.query(query)\n",
        "    monto_por_s= query_res.groupby(['monto_ultima_liquidacion']).size()\n",
        "    groups_of_values.append(monto_por_s.values)"
      ]
    },
    {
      "cell_type": "code",
      "execution_count": 20,
      "metadata": {
        "colab": {
          "base_uri": "https://localhost:8080/",
          "height": 463
        },
        "id": "eXVGJGD7zBjX",
        "outputId": "0ac314d9-e09c-43ca-cc8b-80a471eeb7eb"
      },
      "outputs": [
        {
          "data": {
            "text/plain": [
              "<AxesSubplot:>"
            ]
          },
          "execution_count": 20,
          "metadata": {},
          "output_type": "execute_result"
        },
        {
          "data": {
            "image/png": "[encoded data removed]",
            "text/plain": [
              "<Figure size 432x288 with 1 Axes>"
            ]
          },
          "metadata": {
            "needs_background": "light"
          },
          "output_type": "display_data"
        }
      ],
      "source": [
        "#Ploteamos gráfico de barras\n",
        "plot_df = pd.DataFrame(groups_of_values, index=s_groups).T\n",
        "plot_df = plot_df.set_axis(df['monto_ultima_liquidacion'].unique().tolist(), axis=0)\n",
        "plot_df.plot.bar(rot= 0)"
      ]
    },
    {
      "cell_type": "markdown",
      "metadata": {
        "id": "rB3oJltTzdAs"
      },
      "source": [
        "Podemos observar en este gráfico que para cada uno de los montos posibles la gran mayoría de las asignaciones de la tarjeta alimentar es para personas de sexo F. Los montos asignados a personas con sexo X son muy pocos en contraste con los otros dos sexos, de forma tal que ni se visualizan en el gráfico. A continuación analizamos esos casos puntuales para poder apreciar la situación de esos casos."
      ]
    },
    {
      "cell_type": "code",
      "execution_count": 21,
      "metadata": {
        "colab": {
          "base_uri": "https://localhost:8080/"
        },
        "id": "wh2zvIfS00en",
        "outputId": "37e74269-aaf2-4b0f-87d0-c2d1208a5139"
      },
      "outputs": [
        {
          "name": "stdout",
          "output_type": "stream",
          "text": [
            "monto_ultima_liquidacion\n",
            "17000    5\n",
            "26000    2\n",
            "dtype: int64\n"
          ]
        }
      ],
      "source": [
        "query_res = df.query('sexo == \"X\"')\n",
        "print(query_res.groupby(['monto_ultima_liquidacion']).size())"
      ]
    },
    {
      "cell_type": "markdown",
      "metadata": {
        "id": "alrQi42J1L28"
      },
      "source": [
        "Evidentemente son muy pocas las asignaciones a personas de sexo X. Para el monto de valor 34000 directamente no se registran beneficiaries."
      ]
    },
    {
      "cell_type": "code",
      "execution_count": 22,
      "metadata": {
        "colab": {
          "base_uri": "https://localhost:8080/",
          "height": 504
        },
        "id": "AJN8mmMN1wBZ",
        "outputId": "1c9a27a3-8851-458c-aa80-4588e5817f01"
      },
      "outputs": [
        {
          "name": "stdout",
          "output_type": "stream",
          "text": [
            "La mediana de montos para el sexo F es 17000.0 y el promedio es 21410.696689461638\n",
            "La mediana de montos para el sexo M es 17000.0 y el promedio es 20540.485900606254\n",
            "La mediana de montos para el sexo X es 17000.0 y el promedio es 19571.428571428572\n"
          ]
        },
        {
          "data": {
            "image/png": "[encoded data removed]",
            "text/plain": [
              "<Figure size 432x288 with 1 Axes>"
            ]
          },
          "metadata": {
            "needs_background": "light"
          },
          "output_type": "display_data"
        }
      ],
      "source": [
        "#Ploteamos boxplots\n",
        "sns.boxplot(data=df, x=\"monto_ultima_liquidacion\", y=\"sexo\")\n",
        "\n",
        "boxplot_df = df.query('sexo == \"F\"')\n",
        "print(\"La mediana de montos para el sexo F es {mediana} y el promedio es {prom}\".format(mediana = boxplot_df['monto_ultima_liquidacion'].median(),prom=boxplot_df['monto_ultima_liquidacion'].mean()))\n",
        "boxplot_df = df.query('sexo == \"M\"')\n",
        "print(\"La mediana de montos para el sexo M es {mediana} y el promedio es {prom}\".format(mediana = boxplot_df['monto_ultima_liquidacion'].median(),prom=boxplot_df['monto_ultima_liquidacion'].mean()))\n",
        "boxplot_df = df.query('sexo == \"X\"')\n",
        "print(\"La mediana de montos para el sexo X es {mediana} y el promedio es {prom}\".format(mediana = boxplot_df['monto_ultima_liquidacion'].median(),prom=boxplot_df['monto_ultima_liquidacion'].mean()))\n"
      ]
    },
    {
      "cell_type": "markdown",
      "metadata": {
        "id": "uII8DU6quVMZ"
      },
      "source": [
        "Tanto para personas con sexo F como M el 50% de los montos de la ultima liquidacion de las asignaciones se encuentran entre 17000 y 26000. El box plot para el sexo X cambia debido a que no tiene valores mayores a 26000 asociados, y eso impacta en la distribución de cuartiles. La media para todos está en 17000 y por la distribución de los boxplot podemos concluir que para cada sexo el 75% de las asignaciones es de 17000, esto es lo que influencia que los promedios estén más cercanos a 17000 en todos los casos."
      ]
    },
    {
      "cell_type": "markdown",
      "metadata": {
        "id": "1VLMPgnnNaY9"
      },
      "source": [
        "####b. Provincia vs. Duración\n",
        "(Variable Nominal vs Variable Numérica)"
      ]
    },
    {
      "cell_type": "code",
      "execution_count": 23,
      "metadata": {
        "colab": {
          "base_uri": "https://localhost:8080/",
          "height": 885
        },
        "id": "_IS5Rf6D1KYv",
        "outputId": "4c9feb0f-47ec-4dda-e68e-a33382043469"
      },
      "outputs": [
        {
          "name": "stdout",
          "output_type": "stream",
          "text": [
            "La mediana de duracion para la provincia Ciudad de Buenos Aires es 641.0 y el promedio es 639.0919542949067\n",
            "La mediana de duracion para la provincia Buenos Aires es 822.0 y el promedio es 777.360564711571\n",
            "La mediana de duracion para la provincia San Juan es 822.0 y el promedio es 795.7656625293525\n",
            "La mediana de duracion para la provincia Córdoba es 822.0 y el promedio es 750.459502391474\n",
            "La mediana de duracion para la provincia Misiones es 822.0 y el promedio es 809.4083297431298\n",
            "La mediana de duracion para la provincia Santa Fe es 822.0 y el promedio es 763.5180624200059\n",
            "La mediana de duracion para la provincia Mendoza es 822.0 y el promedio es 759.4356663206092\n",
            "La mediana de duracion para la provincia Catamarca es 822.0 y el promedio es 828.5729500687128\n",
            "La mediana de duracion para la provincia Tucumán es 822.0 y el promedio es 782.2598893263932\n",
            "La mediana de duracion para la provincia Formosa es 822.0 y el promedio es 831.7290652348668\n",
            "La mediana de duracion para la provincia Chaco es 822.0 y el promedio es 828.7425573752458\n",
            "La mediana de duracion para la provincia Chubut es 579.0 y el promedio es 600.8312446351931\n",
            "La mediana de duracion para la provincia Corrientes es 822.0 y el promedio es 814.2904126697774\n",
            "La mediana de duracion para la provincia Río Negro es 702.0 y el promedio es 671.2844299509945\n",
            "La mediana de duracion para la provincia Entre Ríos es 822.0 y el promedio es 801.9671193639192\n",
            "La mediana de duracion para la provincia Santiago del Estero es 822.0 y el promedio es 816.1918293115685\n",
            "La mediana de duracion para la provincia Jujuy es 822.0 y el promedio es 780.8399551490753\n",
            "La mediana de duracion para la provincia Salta es 822.0 y el promedio es 811.0053837594365\n",
            "La mediana de duracion para la provincia Neuquén es 641.0 y el promedio es 627.952074170435\n",
            "La mediana de duracion para la provincia Tierra del Fuego es 608.0 y el promedio es 622.1969664828172\n",
            "La mediana de duracion para la provincia Santa Cruz es 515.0 y el promedio es 554.3708717948718\n",
            "La mediana de duracion para la provincia San Luis es 822.0 y el promedio es 742.0393693463246\n",
            "La mediana de duracion para la provincia La Pampa es 822.0 y el promedio es 761.0464577541909\n",
            "La mediana de duracion para la provincia La Rioja es 822.0 y el promedio es 782.3553818400482\n"
          ]
        },
        {
          "data": {
            "image/png": "[encoded data removed]",
            "text/plain": [
              "<Figure size 432x288 with 1 Axes>"
            ]
          },
          "metadata": {
            "needs_background": "light"
          },
          "output_type": "display_data"
        }
      ],
      "source": [
        "\"\"\"\n",
        "Debido a la variedad de valores que toma la variable duracion consideramos que para el análisis bivariado usariamos boxplots e histogramas,\n",
        "y no gráficos de barra ya que en este contexto armar un grafico de barras no sirve para sintetizar y ayudar a analizar la relación entre este\n",
        "par de variables.\n",
        "\"\"\"\n",
        "#Ploteamos boxplots\n",
        "df['duracion'] = df['duracion'].dt.days\n",
        "sns.boxplot(data=df, x=\"duracion\", y=\"provincia\")\n",
        "\n",
        "for p in df['provincia'].unique():\n",
        "    query = 'provincia == \"{x}\"'.format(x=p)\n",
        "    query_res = df.query(query)\n",
        "    print(\"La mediana de duracion para la provincia {prov} es {mediana} y el promedio es {prom}\".format(prov = p,mediana = query_res['duracion'].median(),prom = query_res['duracion'].mean()))\n"
      ]
    },
    {
      "cell_type": "markdown",
      "metadata": {
        "id": "gXJSxoYwUOib"
      },
      "source": [
        "Podemos observar que para 18 de 24 provincias la mediana es la misma.\n",
        "Particularmente para las provincias de la patagonia la distribución de la duración indica que las asignaciones tieneden a durar menos que para las otras provincias.\n"
      ]
    },
    {
      "cell_type": "code",
      "execution_count": 24,
      "metadata": {
        "colab": {
          "base_uri": "https://localhost:8080/",
          "height": 1000
        },
        "id": "SjJIA5Q_dVHU",
        "outputId": "eb2640cf-d15a-42e8-ebb0-81e67136cefb"
      },
      "outputs": [
        {
          "name": "stderr",
          "output_type": "stream",
          "text": [
            "<ipython-input-24-ccb247f2b064>:7: RuntimeWarning: More than 20 figures have been opened. Figures created through the pyplot interface (`matplotlib.pyplot.figure`) are retained until explicitly closed and may consume too much memory. (To control this warning, see the rcParam `figure.max_open_warning`).\n",
            "  plt.figure(figsize=(4,4))\n"
          ]
        },
        {
          "data": {
            "image/png": "[encoded data removed]",
            "text/plain": [
              "<Figure size 288x288 with 1 Axes>"
            ]
          },
          "metadata": {
            "needs_background": "light"
          },
          "output_type": "display_data"
        },
        {
          "data": {
            "image/png": "[encoded data removed]",
            "text/plain": [
              "<Figure size 288x288 with 1 Axes>"
            ]
          },
          "metadata": {
            "needs_background": "light"
          },
          "output_type": "display_data"
        },
        {
          "data": {
            "image/png": "[encoded data removed]",
            "text/plain": [
              "<Figure size 288x288 with 1 Axes>"
            ]
          },
          "metadata": {
            "needs_background": "light"
          },
          "output_type": "display_data"
        },
        {
          "data": {
            "image/png": "[encoded data removed]",
            "text/plain": [
              "<Figure size 288x288 with 1 Axes>"
            ]
          },
          "metadata": {
            "needs_background": "light"
          },
          "output_type": "display_data"
        },
        {
          "data": {
            "image/png": "[encoded data removed]",
            "text/plain": [
              "<Figure size 288x288 with 1 Axes>"
            ]
          },
          "metadata": {
            "needs_background": "light"
          },
          "output_type": "display_data"
        },
        {
          "data": {
            "image/png": "[encoded data removed]",
            "text/plain": [
              "<Figure size 288x288 with 1 Axes>"
            ]
          },
          "metadata": {
            "needs_background": "light"
          },
          "output_type": "display_data"
        },
        {
          "data": {
            "image/png": "[encoded data removed]",
            "text/plain": [
              "<Figure size 288x288 with 1 Axes>"
            ]
          },
          "metadata": {
            "needs_background": "light"
          },
          "output_type": "display_data"
        },
        {
          "data": {
            "image/png": "[encoded data removed]",
            "text/plain": [
              "<Figure size 288x288 with 1 Axes>"
            ]
          },
          "metadata": {
            "needs_background": "light"
          },
          "output_type": "display_data"
        },
        {
          "data": {
            "image/png": "[encoded data removed]",
            "text/plain": [
              "<Figure size 288x288 with 1 Axes>"
            ]
          },
          "metadata": {
            "needs_background": "light"
          },
          "output_type": "display_data"
        },
        {
          "data": {
            "image/png": "[encoded data removed]",
            "text/plain": [
              "<Figure size 288x288 with 1 Axes>"
            ]
          },
          "metadata": {
            "needs_background": "light"
          },
          "output_type": "display_data"
        },
        {
          "data": {
            "image/png": "[encoded data removed]",
            "text/plain": [
              "<Figure size 288x288 with 1 Axes>"
            ]
          },
          "metadata": {
            "needs_background": "light"
          },
          "output_type": "display_data"
        },
        {
          "data": {
            "image/png": "[encoded data removed]",
            "text/plain": [
              "<Figure size 288x288 with 1 Axes>"
            ]
          },
          "metadata": {
            "needs_background": "light"
          },
          "output_type": "display_data"
        },
        {
          "data": {
            "image/png": "[encoded data removed]",
            "text/plain": [
              "<Figure size 288x288 with 1 Axes>"
            ]
          },
          "metadata": {
            "needs_background": "light"
          },
          "output_type": "display_data"
        },
        {
          "data": {
            "image/png": "[encoded data removed]",
            "text/plain": [
              "<Figure size 288x288 with 1 Axes>"
            ]
          },
          "metadata": {
            "needs_background": "light"
          },
          "output_type": "display_data"
        },
        {
          "data": {
            "image/png": "[encoded data removed]",
            "text/plain": [
              "<Figure size 288x288 with 1 Axes>"
            ]
          },
          "metadata": {
            "needs_background": "light"
          },
          "output_type": "display_data"
        },
        {
          "data": {
            "image/png": "[encoded data removed]",
            "text/plain": [
              "<Figure size 288x288 with 1 Axes>"
            ]
          },
          "metadata": {
            "needs_background": "light"
          },
          "output_type": "display_data"
        },
        {
          "data": {
            "image/png": "[encoded data removed]",
            "text/plain": [
              "<Figure size 288x288 with 1 Axes>"
            ]
          },
          "metadata": {
            "needs_background": "light"
          },
          "output_type": "display_data"
        },
        {
          "data": {
            "image/png": "[encoded data removed]",
            "text/plain": [
              "<Figure size 288x288 with 1 Axes>"
            ]
          },
          "metadata": {
            "needs_background": "light"
          },
          "output_type": "display_data"
        },
        {
          "data": {
            "image/png": "[encoded data removed]",
            "text/plain": [
              "<Figure size 288x288 with 1 Axes>"
            ]
          },
          "metadata": {
            "needs_background": "light"
          },
          "output_type": "display_data"
        },
        {
          "data": {
            "image/png": "[encoded data removed]",
            "text/plain": [
              "<Figure size 288x288 with 1 Axes>"
            ]
          },
          "metadata": {
            "needs_background": "light"
          },
          "output_type": "display_data"
        },
        {
          "data": {
            "image/png": "[encoded data removed]",
            "text/plain": [
              "<Figure size 288x288 with 1 Axes>"
            ]
          },
          "metadata": {
            "needs_background": "light"
          },
          "output_type": "display_data"
        },
        {
          "data": {
            "image/png": "[encoded data removed]",
            "text/plain": [
              "<Figure size 288x288 with 1 Axes>"
            ]
          },
          "metadata": {
            "needs_background": "light"
          },
          "output_type": "display_data"
        },
        {
          "data": {
            "image/png": "[encoded data removed]",
            "text/plain": [
              "<Figure size 288x288 with 1 Axes>"
            ]
          },
          "metadata": {
            "needs_background": "light"
          },
          "output_type": "display_data"
        },
        {
          "data": {
            "image/png": "[encoded data removed]",
            "text/plain": [
              "<Figure size 288x288 with 1 Axes>"
            ]
          },
          "metadata": {
            "needs_background": "light"
          },
          "output_type": "display_data"
        }
      ],
      "source": [
        "#Ploteamos histogramas\n",
        "import matplotlib.pyplot as plt\n",
        "\n",
        "for p in df['provincia'].unique():\n",
        "    query = 'provincia == \"{x}\"'.format(x=p)\n",
        "    query_res = df.query(query)\n",
        "    plt.figure(figsize=(4,4))\n",
        "    sns.histplot(x = query_res['duracion'], stat = \"count\").set(title=p)"
      ]
    },
    {
      "cell_type": "markdown",
      "metadata": {
        "id": "_2dlCWItiSiS"
      },
      "source": [
        "Se puede ver una tendencia de picos en la cantidad de asignaciones que duran al rededor de 1250 días para todas las provincias por igual que es determinante en la configuración de los cuartiles para los boxplot, es por esto que el tercer cuartil en la mayoría de los casos está tan cerca del límite máximo de duraciones registradas. Una de las conclusiones es que la mayor cantidad de asignaciones dura al rededor de 1250 días y que en las provincias de la Patagonia también hay picos en la cantidad de asignaciones que duran menos de 250 días, predominantemente al rededor de los 50 días. También se puede ver otro pico en la cantidad de asignaciones de al rededor de 800 días en todas las provincias."
      ]
    },
    {
      "cell_type": "markdown",
      "metadata": {
        "id": "fQj3U9tTmiUz"
      },
      "source": [
        "####c. Sexo vs. Provincia\n",
        "(Variable Nominal vs Variable Nominal)"
      ]
    },
    {
      "cell_type": "code",
      "execution_count": 25,
      "metadata": {
        "colab": {
          "base_uri": "https://localhost:8080/"
        },
        "id": "vMg2WCUamnXQ",
        "outputId": "9160226d-0c9c-450e-c111-ea5bfcc486ef"
      },
      "outputs": [
        {
          "name": "stdout",
          "output_type": "stream",
          "text": [
            "sexo                          F       M  X\n",
            "provincia                                 \n",
            "Buenos Aires            1221443  151785  4\n",
            "Catamarca                 32641    2287  0\n",
            "Chaco                    134941   10504  1\n",
            "Chubut                    34564    6211  0\n",
            "Ciudad de Buenos Aires   110412   16400  1\n",
            "Corrientes               105379    9919  0\n",
            "Córdoba                  255156   30650  1\n",
            "Entre Ríos                91070   10175  0\n",
            "Formosa                   60727    5204  0\n",
            "Jujuy                     67837    6186  0\n",
            "La Pampa                  21336    2406  0\n",
            "La Rioja                  30331    2929  0\n",
            "Mendoza                  146549   20090  0\n",
            "Misiones                 125590   15999  0\n",
            "Neuquén                   42117    6312  0\n",
            "Río Negro                 47571    7933  0\n",
            "Salta                    135655   14426  0\n",
            "San Juan                  66688    7837  0\n",
            "San Luis                  38065    4938  0\n",
            "Santa Cruz                24333    4917  0\n",
            "Santa Fe                 224349   29576  0\n",
            "Santiago del Estero      102587   10133  0\n",
            "Tierra del Fuego           8201    1227  0\n",
            "Tucumán                  147303   23108  0\n"
          ]
        }
      ],
      "source": [
        "\"\"\"\n",
        "Para este análisis vamos a utilizar Tabla de contingencia, Prueba de Chi Cuadrado y Grafico de barras apiladas.\n",
        "\"\"\"\n",
        "\n",
        "#Tabla de Contingencia\n",
        "df.groupby(['provincia','sexo']).size()\n",
        "\n",
        "data_crosstab = pd.crosstab(df['provincia'], df['sexo'], margins = False)\n",
        "print(data_crosstab)"
      ]
    },
    {
      "cell_type": "code",
      "execution_count": 26,
      "metadata": {
        "colab": {
          "base_uri": "https://localhost:8080/"
        },
        "id": "I1_gKBqVt7vC",
        "outputId": "8d533566-2ec8-4e9b-ac6e-823433deb637"
      },
      "outputs": [
        {
          "name": "stdout",
          "output_type": "stream",
          "text": [
            "p value is 0.0\n",
            "Dependent (reject H0)\n"
          ]
        }
      ],
      "source": [
        "#Prueba de Chi Cuadrado\n",
        "from scipy.stats import chi2_contingency\n",
        "\n",
        "#data_crosstabTOT = pd.crosstab(df['provincia'], df['sexo'], margins = True)\n",
        "#print(data_crosstabTOT)\n",
        "\n",
        "stat, p, dof, expected = chi2_contingency(data_crosstab)\n",
        "\n",
        "\n",
        "# interpret p-value\n",
        "alpha = 0.05\n",
        "print(\"p value is \" + str(p))\n",
        "if p <= alpha:\n",
        "    print('Dependent (reject H0)')\n",
        "else:\n",
        "    print('Independent (H0 holds true)')"
      ]
    },
    {
      "cell_type": "markdown",
      "metadata": {
        "id": "FWBs-_L1uMj_"
      },
      "source": [
        "La prueba de Chi nos indica que las variables de sexo y provincia son dependientes."
      ]
    },
    {
      "cell_type": "code",
      "execution_count": 27,
      "metadata": {
        "id": "4-kKF7RXngX8"
      },
      "outputs": [],
      "source": [
        "#Seteamos variables para el gráfico de barras apiladas\n",
        "p_groups = df['provincia'].unique()\n",
        "s_groups = df['sexo'].unique()\n",
        "groups_of_values = [[],[],[]]\n",
        "groups_of_values_100 = [[],[],[]]\n",
        "for p in p_groups:\n",
        "    query = 'provincia == \"{x}\"'.format(x=p)\n",
        "    query_res = df.query(query)\n",
        "    total_p = len(query_res.value_counts())\n",
        "    for i, s in enumerate(df['sexo'].unique()):\n",
        "        query2 = 'sexo == \"{x}\"'.format(x=s)\n",
        "        query_res2 = query_res.query(query2)\n",
        "        if i == 2 and len(query_res2.values) == 0:\n",
        "            groups_of_values[i].append(0)\n",
        "            groups_of_values_100[i].append(0)\n",
        "        else:\n",
        "            groups_of_values[i] += query_res2.sexo.value_counts().values.tolist()\n",
        "            groups_of_values_100[i] += (query_res2.sexo.value_counts().values/total_p).tolist()"
      ]
    },
    {
      "cell_type": "code",
      "execution_count": 28,
      "metadata": {
        "colab": {
          "base_uri": "https://localhost:8080/",
          "height": 614
        },
        "id": "FiEShEM6nnCN",
        "outputId": "2ccd54e1-2b03-420e-c207-a8d3ae66f674"
      },
      "outputs": [
        {
          "data": {
            "text/plain": [
              "<AxesSubplot:>"
            ]
          },
          "execution_count": 28,
          "metadata": {},
          "output_type": "execute_result"
        },
        {
          "data": {
            "image/png": "[encoded data removed]",
            "text/plain": [
              "<Figure size 432x288 with 1 Axes>"
            ]
          },
          "metadata": {
            "needs_background": "light"
          },
          "output_type": "display_data"
        }
      ],
      "source": [
        "# Ploteamos grafico de barras apiladas\n",
        "plot_df = pd.DataFrame(groups_of_values, index=s_groups).T\n",
        "plot_df = plot_df.set_axis(df['provincia'].unique().tolist(), axis=0)\n",
        "plot_df.plot.bar(stacked=True)"
      ]
    },
    {
      "cell_type": "code",
      "execution_count": 29,
      "metadata": {
        "colab": {
          "base_uri": "https://localhost:8080/",
          "height": 599
        },
        "id": "aP1oA85DeZ-D",
        "outputId": "c2567e3c-d06a-4601-a4c3-6e2607f5b220"
      },
      "outputs": [
        {
          "data": {
            "text/plain": [
              "<AxesSubplot:>"
            ]
          },
          "execution_count": 29,
          "metadata": {},
          "output_type": "execute_result"
        },
        {
          "data": {
            "image/png": "[encoded data removed]",
            "text/plain": [
              "<Figure size 432x288 with 1 Axes>"
            ]
          },
          "metadata": {
            "needs_background": "light"
          },
          "output_type": "display_data"
        }
      ],
      "source": [
        "# Plotear grafico de barras apiladas para ver porcentajes de genero por provincia\n",
        "plot_df = pd.DataFrame(groups_of_values_100, index=s_groups).T\n",
        "plot_df = plot_df.set_axis(df['provincia'].unique().tolist(), axis=0)\n",
        "plot_df.plot.bar(stacked=True)"
      ]
    },
    {
      "cell_type": "markdown",
      "metadata": {
        "id": "qUo8QHv_s0g-"
      },
      "source": [
        "La conclusión directa que se desprende de este grafico de barras es que el territorio que recibe una mayor cantidad de asignaciones es la provincia de Buenos Aires.\n",
        "Por otro lado la distribución entre sexos en porcentaje se mantiene similar para todas las provincias."
      ]
    },
    {
      "cell_type": "markdown",
      "metadata": {
        "id": "mNg4cOrWul6q"
      },
      "source": [
        "[texto del vínculo](https://)### f) ¿Cuáles son los elementos que más le llaman la atención?"
      ]
    },
    {
      "cell_type": "markdown",
      "metadata": {
        "id": "HoRPs3XSfE3P"
      },
      "source": []
    }
  ],
  "metadata": {
    "colab": {
      "provenance": []
    },
    "kernelspec": {
      "display_name": "default",
      "language": "python",
      "name": "python3"
    },
    "language_info": {
      "codemirror_mode": {
        "name": "ipython",
        "version": 3
      },
      "file_extension": ".py",
      "mimetype": "text/x-python",
      "name": "python",
      "nbconvert_exporter": "python",
      "pygments_lexer": "ipython3",
      "version": "3.9.4"
    }
  },
  "nbformat": 4,
  "nbformat_minor": 0
}
